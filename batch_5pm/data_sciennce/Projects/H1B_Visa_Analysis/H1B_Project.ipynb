{
 "cells": [
  {
   "cell_type": "code",
   "execution_count": 1,
   "metadata": {},
   "outputs": [],
   "source": [
    "import pandas as pd\n",
    "from matplotlib import pyplot as plt\n",
    "import seaborn as sn \n",
    "import numpy as np\n",
    "from decimal import Decimal\n",
    "%matplotlib inline"
   ]
  },
  {
   "cell_type": "code",
   "execution_count": 2,
   "metadata": {},
   "outputs": [],
   "source": [
    "f = pd.read_csv('E:\\\\BOOKS\\\\Grras\\\\Projects\\\\H1B_Visa_Analysis\\\\h1b.csv')"
   ]
  },
  {
   "cell_type": "code",
   "execution_count": 3,
   "metadata": {},
   "outputs": [
    {
     "data": {
      "text/plain": [
       "Index(['Unnamed: 0', 'CASE_STATUS', 'EMPLOYER_NAME', 'SOC_NAME', 'JOB_TITLE',\n",
       "       'FULL_TIME_POSITION', 'PREVAILING_WAGE', 'YEAR', 'WORKSITE', 'lon',\n",
       "       'lat'],\n",
       "      dtype='object')"
      ]
     },
     "execution_count": 3,
     "metadata": {},
     "output_type": "execute_result"
    }
   ],
   "source": [
    "f.columns"
   ]
  },
  {
   "cell_type": "code",
   "execution_count": 4,
   "metadata": {},
   "outputs": [
    {
     "data": {
      "text/plain": [
       "Index(['CASE_STATUS', 'EMPLOYER_NAME', 'SOC_NAME', 'JOB_TITLE',\n",
       "       'FULL_TIME_POSITION', 'PREVAILING_WAGE', 'YEAR', 'WORKSITE', 'lon',\n",
       "       'lat'],\n",
       "      dtype='object')"
      ]
     },
     "execution_count": 4,
     "metadata": {},
     "output_type": "execute_result"
    }
   ],
   "source": [
    "del f['Unnamed: 0']\n",
    "f.columns"
   ]
  },
  {
   "cell_type": "code",
   "execution_count": 5,
   "metadata": {},
   "outputs": [
    {
     "data": {
      "text/plain": [
       "3002458"
      ]
     },
     "execution_count": 5,
     "metadata": {},
     "output_type": "execute_result"
    }
   ],
   "source": [
    "len(f)"
   ]
  },
  {
   "cell_type": "code",
   "execution_count": 6,
   "metadata": {},
   "outputs": [
    {
     "data": {
      "text/html": [
       "<div>\n",
       "<style scoped>\n",
       "    .dataframe tbody tr th:only-of-type {\n",
       "        vertical-align: middle;\n",
       "    }\n",
       "\n",
       "    .dataframe tbody tr th {\n",
       "        vertical-align: top;\n",
       "    }\n",
       "\n",
       "    .dataframe thead th {\n",
       "        text-align: right;\n",
       "    }\n",
       "</style>\n",
       "<table border=\"1\" class=\"dataframe\">\n",
       "  <thead>\n",
       "    <tr style=\"text-align: right;\">\n",
       "      <th></th>\n",
       "      <th>CASE_STATUS</th>\n",
       "      <th>EMPLOYER_NAME</th>\n",
       "      <th>SOC_NAME</th>\n",
       "      <th>JOB_TITLE</th>\n",
       "      <th>FULL_TIME_POSITION</th>\n",
       "      <th>PREVAILING_WAGE</th>\n",
       "      <th>YEAR</th>\n",
       "      <th>WORKSITE</th>\n",
       "      <th>lon</th>\n",
       "      <th>lat</th>\n",
       "    </tr>\n",
       "  </thead>\n",
       "  <tbody>\n",
       "    <tr>\n",
       "      <th>0</th>\n",
       "      <td>CERTIFIED-WITHDRAWN</td>\n",
       "      <td>UNIVERSITY OF MICHIGAN</td>\n",
       "      <td>BIOCHEMISTS AND BIOPHYSICISTS</td>\n",
       "      <td>POSTDOCTORAL RESEARCH FELLOW</td>\n",
       "      <td>N</td>\n",
       "      <td>36067.0</td>\n",
       "      <td>2016.0</td>\n",
       "      <td>ANN ARBOR, MICHIGAN</td>\n",
       "      <td>-83.743038</td>\n",
       "      <td>42.280826</td>\n",
       "    </tr>\n",
       "    <tr>\n",
       "      <th>1</th>\n",
       "      <td>CERTIFIED-WITHDRAWN</td>\n",
       "      <td>GOODMAN NETWORKS, INC.</td>\n",
       "      <td>CHIEF EXECUTIVES</td>\n",
       "      <td>CHIEF OPERATING OFFICER</td>\n",
       "      <td>Y</td>\n",
       "      <td>242674.0</td>\n",
       "      <td>2016.0</td>\n",
       "      <td>PLANO, TEXAS</td>\n",
       "      <td>-96.698886</td>\n",
       "      <td>33.019843</td>\n",
       "    </tr>\n",
       "    <tr>\n",
       "      <th>2</th>\n",
       "      <td>CERTIFIED-WITHDRAWN</td>\n",
       "      <td>PORTS AMERICA GROUP, INC.</td>\n",
       "      <td>CHIEF EXECUTIVES</td>\n",
       "      <td>CHIEF PROCESS OFFICER</td>\n",
       "      <td>Y</td>\n",
       "      <td>193066.0</td>\n",
       "      <td>2016.0</td>\n",
       "      <td>JERSEY CITY, NEW JERSEY</td>\n",
       "      <td>-74.077642</td>\n",
       "      <td>40.728158</td>\n",
       "    </tr>\n",
       "    <tr>\n",
       "      <th>3</th>\n",
       "      <td>CERTIFIED-WITHDRAWN</td>\n",
       "      <td>GATES CORPORATION, A WHOLLY-OWNED SUBSIDIARY O...</td>\n",
       "      <td>CHIEF EXECUTIVES</td>\n",
       "      <td>REGIONAL PRESIDEN, AMERICAS</td>\n",
       "      <td>Y</td>\n",
       "      <td>220314.0</td>\n",
       "      <td>2016.0</td>\n",
       "      <td>DENVER, COLORADO</td>\n",
       "      <td>-104.990251</td>\n",
       "      <td>39.739236</td>\n",
       "    </tr>\n",
       "    <tr>\n",
       "      <th>4</th>\n",
       "      <td>WITHDRAWN</td>\n",
       "      <td>PEABODY INVESTMENTS CORP.</td>\n",
       "      <td>CHIEF EXECUTIVES</td>\n",
       "      <td>PRESIDENT MONGOLIA AND INDIA</td>\n",
       "      <td>Y</td>\n",
       "      <td>157518.4</td>\n",
       "      <td>2016.0</td>\n",
       "      <td>ST. LOUIS, MISSOURI</td>\n",
       "      <td>-90.199404</td>\n",
       "      <td>38.627003</td>\n",
       "    </tr>\n",
       "  </tbody>\n",
       "</table>\n",
       "</div>"
      ],
      "text/plain": [
       "           CASE_STATUS                                      EMPLOYER_NAME  \\\n",
       "0  CERTIFIED-WITHDRAWN                             UNIVERSITY OF MICHIGAN   \n",
       "1  CERTIFIED-WITHDRAWN                             GOODMAN NETWORKS, INC.   \n",
       "2  CERTIFIED-WITHDRAWN                          PORTS AMERICA GROUP, INC.   \n",
       "3  CERTIFIED-WITHDRAWN  GATES CORPORATION, A WHOLLY-OWNED SUBSIDIARY O...   \n",
       "4            WITHDRAWN                          PEABODY INVESTMENTS CORP.   \n",
       "\n",
       "                        SOC_NAME                     JOB_TITLE  \\\n",
       "0  BIOCHEMISTS AND BIOPHYSICISTS  POSTDOCTORAL RESEARCH FELLOW   \n",
       "1               CHIEF EXECUTIVES       CHIEF OPERATING OFFICER   \n",
       "2               CHIEF EXECUTIVES         CHIEF PROCESS OFFICER   \n",
       "3               CHIEF EXECUTIVES   REGIONAL PRESIDEN, AMERICAS   \n",
       "4               CHIEF EXECUTIVES  PRESIDENT MONGOLIA AND INDIA   \n",
       "\n",
       "  FULL_TIME_POSITION  PREVAILING_WAGE    YEAR                 WORKSITE  \\\n",
       "0                  N          36067.0  2016.0      ANN ARBOR, MICHIGAN   \n",
       "1                  Y         242674.0  2016.0             PLANO, TEXAS   \n",
       "2                  Y         193066.0  2016.0  JERSEY CITY, NEW JERSEY   \n",
       "3                  Y         220314.0  2016.0         DENVER, COLORADO   \n",
       "4                  Y         157518.4  2016.0      ST. LOUIS, MISSOURI   \n",
       "\n",
       "          lon        lat  \n",
       "0  -83.743038  42.280826  \n",
       "1  -96.698886  33.019843  \n",
       "2  -74.077642  40.728158  \n",
       "3 -104.990251  39.739236  \n",
       "4  -90.199404  38.627003  "
      ]
     },
     "execution_count": 6,
     "metadata": {},
     "output_type": "execute_result"
    }
   ],
   "source": [
    "f = f.dropna()\n",
    "f.head()"
   ]
  },
  {
   "cell_type": "code",
   "execution_count": 7,
   "metadata": {},
   "outputs": [
    {
     "data": {
      "text/plain": [
       "Index(['CASE_STATUS', 'EMPLOYER_NAME', 'SOC_NAME', 'JOB_TITLE',\n",
       "       'FULL_TIME_POSITION', 'PREVAILING_WAGE', 'YEAR', 'WORKSITE', 'lon',\n",
       "       'lat'],\n",
       "      dtype='object')"
      ]
     },
     "execution_count": 7,
     "metadata": {},
     "output_type": "execute_result"
    }
   ],
   "source": [
    "f.columns"
   ]
  },
  {
   "cell_type": "code",
   "execution_count": 8,
   "metadata": {},
   "outputs": [
    {
     "data": {
      "text/plain": [
       "2877765"
      ]
     },
     "execution_count": 8,
     "metadata": {},
     "output_type": "execute_result"
    }
   ],
   "source": [
    "f.reset_index()\n",
    "lng  = len(f)\n",
    "lng"
   ]
  },
  {
   "cell_type": "code",
   "execution_count": 9,
   "metadata": {},
   "outputs": [
    {
     "data": {
      "text/html": [
       "<div>\n",
       "<style scoped>\n",
       "    .dataframe tbody tr th:only-of-type {\n",
       "        vertical-align: middle;\n",
       "    }\n",
       "\n",
       "    .dataframe tbody tr th {\n",
       "        vertical-align: top;\n",
       "    }\n",
       "\n",
       "    .dataframe thead th {\n",
       "        text-align: right;\n",
       "    }\n",
       "</style>\n",
       "<table border=\"1\" class=\"dataframe\">\n",
       "  <thead>\n",
       "    <tr style=\"text-align: right;\">\n",
       "      <th></th>\n",
       "      <th>CASE_STATUS</th>\n",
       "      <th>EMPLOYER_NAME</th>\n",
       "      <th>SOC_NAME</th>\n",
       "      <th>JOB_TITLE</th>\n",
       "      <th>FULL_TIME_POSITION</th>\n",
       "      <th>PREVAILING_WAGE</th>\n",
       "      <th>YEAR</th>\n",
       "      <th>WORKSITE</th>\n",
       "      <th>lon</th>\n",
       "      <th>lat</th>\n",
       "    </tr>\n",
       "  </thead>\n",
       "  <tbody>\n",
       "    <tr>\n",
       "      <th>0</th>\n",
       "      <td>CERTIFIED-WITHDRAWN</td>\n",
       "      <td>UNIVERSITY OF MICHIGAN</td>\n",
       "      <td>BIOCHEMISTS AND BIOPHYSICISTS</td>\n",
       "      <td>POSTDOCTORAL RESEARCH FELLOW</td>\n",
       "      <td>N</td>\n",
       "      <td>36067.0</td>\n",
       "      <td>2016.0</td>\n",
       "      <td>ANN ARBOR, MICHIGAN</td>\n",
       "      <td>-83.743038</td>\n",
       "      <td>42.280826</td>\n",
       "    </tr>\n",
       "    <tr>\n",
       "      <th>1</th>\n",
       "      <td>CERTIFIED-WITHDRAWN</td>\n",
       "      <td>GOODMAN NETWORKS, INC.</td>\n",
       "      <td>CHIEF EXECUTIVES</td>\n",
       "      <td>CHIEF OPERATING OFFICER</td>\n",
       "      <td>Y</td>\n",
       "      <td>242674.0</td>\n",
       "      <td>2016.0</td>\n",
       "      <td>PLANO, TEXAS</td>\n",
       "      <td>-96.698886</td>\n",
       "      <td>33.019843</td>\n",
       "    </tr>\n",
       "    <tr>\n",
       "      <th>2</th>\n",
       "      <td>CERTIFIED-WITHDRAWN</td>\n",
       "      <td>PORTS AMERICA GROUP, INC.</td>\n",
       "      <td>CHIEF EXECUTIVES</td>\n",
       "      <td>CHIEF PROCESS OFFICER</td>\n",
       "      <td>Y</td>\n",
       "      <td>193066.0</td>\n",
       "      <td>2016.0</td>\n",
       "      <td>JERSEY CITY, NEW JERSEY</td>\n",
       "      <td>-74.077642</td>\n",
       "      <td>40.728158</td>\n",
       "    </tr>\n",
       "    <tr>\n",
       "      <th>3</th>\n",
       "      <td>CERTIFIED-WITHDRAWN</td>\n",
       "      <td>GATES CORPORATION, A WHOLLY-OWNED SUBSIDIARY O...</td>\n",
       "      <td>CHIEF EXECUTIVES</td>\n",
       "      <td>REGIONAL PRESIDEN, AMERICAS</td>\n",
       "      <td>Y</td>\n",
       "      <td>220314.0</td>\n",
       "      <td>2016.0</td>\n",
       "      <td>DENVER, COLORADO</td>\n",
       "      <td>-104.990251</td>\n",
       "      <td>39.739236</td>\n",
       "    </tr>\n",
       "    <tr>\n",
       "      <th>4</th>\n",
       "      <td>WITHDRAWN</td>\n",
       "      <td>PEABODY INVESTMENTS CORP.</td>\n",
       "      <td>CHIEF EXECUTIVES</td>\n",
       "      <td>PRESIDENT MONGOLIA AND INDIA</td>\n",
       "      <td>Y</td>\n",
       "      <td>157518.4</td>\n",
       "      <td>2016.0</td>\n",
       "      <td>ST. LOUIS, MISSOURI</td>\n",
       "      <td>-90.199404</td>\n",
       "      <td>38.627003</td>\n",
       "    </tr>\n",
       "  </tbody>\n",
       "</table>\n",
       "</div>"
      ],
      "text/plain": [
       "           CASE_STATUS                                      EMPLOYER_NAME  \\\n",
       "0  CERTIFIED-WITHDRAWN                             UNIVERSITY OF MICHIGAN   \n",
       "1  CERTIFIED-WITHDRAWN                             GOODMAN NETWORKS, INC.   \n",
       "2  CERTIFIED-WITHDRAWN                          PORTS AMERICA GROUP, INC.   \n",
       "3  CERTIFIED-WITHDRAWN  GATES CORPORATION, A WHOLLY-OWNED SUBSIDIARY O...   \n",
       "4            WITHDRAWN                          PEABODY INVESTMENTS CORP.   \n",
       "\n",
       "                        SOC_NAME                     JOB_TITLE  \\\n",
       "0  BIOCHEMISTS AND BIOPHYSICISTS  POSTDOCTORAL RESEARCH FELLOW   \n",
       "1               CHIEF EXECUTIVES       CHIEF OPERATING OFFICER   \n",
       "2               CHIEF EXECUTIVES         CHIEF PROCESS OFFICER   \n",
       "3               CHIEF EXECUTIVES   REGIONAL PRESIDEN, AMERICAS   \n",
       "4               CHIEF EXECUTIVES  PRESIDENT MONGOLIA AND INDIA   \n",
       "\n",
       "  FULL_TIME_POSITION  PREVAILING_WAGE    YEAR                 WORKSITE  \\\n",
       "0                  N          36067.0  2016.0      ANN ARBOR, MICHIGAN   \n",
       "1                  Y         242674.0  2016.0             PLANO, TEXAS   \n",
       "2                  Y         193066.0  2016.0  JERSEY CITY, NEW JERSEY   \n",
       "3                  Y         220314.0  2016.0         DENVER, COLORADO   \n",
       "4                  Y         157518.4  2016.0      ST. LOUIS, MISSOURI   \n",
       "\n",
       "          lon        lat  \n",
       "0  -83.743038  42.280826  \n",
       "1  -96.698886  33.019843  \n",
       "2  -74.077642  40.728158  \n",
       "3 -104.990251  39.739236  \n",
       "4  -90.199404  38.627003  "
      ]
     },
     "execution_count": 9,
     "metadata": {},
     "output_type": "execute_result"
    }
   ],
   "source": [
    "f.head()"
   ]
  },
  {
   "cell_type": "code",
   "execution_count": 10,
   "metadata": {},
   "outputs": [
    {
     "data": {
      "text/plain": [
       "INFOSYS LIMITED                      130257\n",
       "TATA CONSULTANCY SERVICES LIMITED     64273\n",
       "WIPRO LIMITED                         45673\n",
       "DELOITTE CONSULTING LLP               35999\n",
       "IBM INDIA PRIVATE LIMITED             33585\n",
       "Name: EMPLOYER_NAME, dtype: int64"
      ]
     },
     "execution_count": 10,
     "metadata": {},
     "output_type": "execute_result"
    }
   ],
   "source": [
    "f.EMPLOYER_NAME.value_counts().head()"
   ]
  },
  {
   "cell_type": "code",
   "execution_count": 12,
   "metadata": {},
   "outputs": [
    {
     "data": {
      "text/plain": [
       "<matplotlib.axes._subplots.AxesSubplot at 0x1a900080208>"
      ]
     },
     "execution_count": 12,
     "metadata": {},
     "output_type": "execute_result"
    },
    {
     "data": {
      "image/png": "[encoded data removed]",
      "text/plain": [
       "<Figure size 432x288 with 1 Axes>"
      ]
     },
     "metadata": {
      "needs_background": "light"
     },
     "output_type": "display_data"
    }
   ],
   "source": [
    "new_data = f['EMPLOYER_NAME'].value_counts().head(15)\n",
    "new_data.plot(kind='bar',title='Top 15 Hiring Company')"
   ]
  },
  {
   "cell_type": "code",
   "execution_count": 13,
   "metadata": {},
   "outputs": [
    {
     "data": {
      "text/plain": [
       "Index(['CASE_STATUS', 'EMPLOYER_NAME', 'SOC_NAME', 'JOB_TITLE',\n",
       "       'FULL_TIME_POSITION', 'PREVAILING_WAGE', 'YEAR', 'WORKSITE', 'lon',\n",
       "       'lat'],\n",
       "      dtype='object')"
      ]
     },
     "execution_count": 13,
     "metadata": {},
     "output_type": "execute_result"
    }
   ],
   "source": [
    "f.columns"
   ]
  },
  {
   "cell_type": "code",
   "execution_count": 14,
   "metadata": {},
   "outputs": [
    {
     "data": {
      "text/plain": [
       "60000.0    10185\n",
       "55245.0     6745\n",
       "62566.0     6480\n",
       "58053.0     5683\n",
       "52499.0     5492\n",
       "Name: PREVAILING_WAGE, dtype: int64"
      ]
     },
     "execution_count": 14,
     "metadata": {},
     "output_type": "execute_result"
    }
   ],
   "source": [
    "f.PREVAILING_WAGE.value_counts().sort_values(ascending=False).head()"
   ]
  },
  {
   "cell_type": "code",
   "execution_count": 15,
   "metadata": {},
   "outputs": [
    {
     "data": {
      "text/plain": [
       "145166.64888402403"
      ]
     },
     "execution_count": 15,
     "metadata": {},
     "output_type": "execute_result"
    }
   ],
   "source": [
    "f.PREVAILING_WAGE.mean()"
   ]
  },
  {
   "cell_type": "code",
   "execution_count": 16,
   "metadata": {},
   "outputs": [
    {
     "data": {
      "image/png": "[encoded data removed]",
      "text/plain": [
       "<Figure size 432x288 with 1 Axes>"
      ]
     },
     "metadata": {
      "needs_background": "light"
     },
     "output_type": "display_data"
    }
   ],
   "source": [
    "awp = f.groupby(['EMPLOYER_NAME']).mean()['PREVAILING_WAGE'].nlargest(15).plot(kind='bar')"
   ]
  },
  {
   "cell_type": "code",
   "execution_count": 16,
   "metadata": {},
   "outputs": [
    {
     "data": {
      "text/plain": [
       "Index(['CASE_STATUS', 'EMPLOYER_NAME', 'SOC_NAME', 'JOB_TITLE',\n",
       "       'FULL_TIME_POSITION', 'PREVAILING_WAGE', 'YEAR', 'WORKSITE', 'lon',\n",
       "       'lat'],\n",
       "      dtype='object')"
      ]
     },
     "execution_count": 16,
     "metadata": {},
     "output_type": "execute_result"
    }
   ],
   "source": [
    "f.columns"
   ]
  },
  {
   "cell_type": "code",
   "execution_count": 17,
   "metadata": {},
   "outputs": [
    {
     "data": {
      "text/plain": [
       "NEW YORK, NEW YORK            190863\n",
       "HOUSTON, TEXAS                 83385\n",
       "SAN FRANCISCO, CALIFORNIA      62457\n",
       "ATLANTA, GEORGIA               52008\n",
       "CHICAGO, ILLINOIS              51167\n",
       "SAN JOSE, CALIFORNIA           49582\n",
       "SUNNYVALE, CALIFORNIA          34968\n",
       "DALLAS, TEXAS                  31509\n",
       "BOSTON, MASSACHUSETTS          31336\n",
       "REDMOND, WASHINGTON            30574\n",
       "CHARLOTTE, NORTH CAROLINA      30176\n",
       "IRVING, TEXAS                  29316\n",
       "MOUNTAIN VIEW, CALIFORNIA      29245\n",
       "SAN DIEGO, CALIFORNIA          28656\n",
       "SANTA CLARA, CALIFORNIA        27945\n",
       "JERSEY CITY, NEW JERSEY        26822\n",
       "SEATTLE, WASHINGTON            26745\n",
       "AUSTIN, TEXAS                  26695\n",
       "LOS ANGELES, CALIFORNIA        26393\n",
       "PHILADELPHIA, PENNSYLVANIA     24104\n",
       "Name: WORKSITE, dtype: int64"
      ]
     },
     "execution_count": 17,
     "metadata": {},
     "output_type": "execute_result"
    }
   ],
   "source": [
    "f['WORKSITE'].value_counts().head(20)"
   ]
  },
  {
   "cell_type": "code",
   "execution_count": 18,
   "metadata": {},
   "outputs": [
    {
     "data": {
      "text/plain": [
       "<matplotlib.axes._subplots.AxesSubplot at 0x220167c4400>"
      ]
     },
     "execution_count": 18,
     "metadata": {},
     "output_type": "execute_result"
    },
    {
     "data": {
      "image/png": "[encoded data removed]",
      "text/plain": [
       "<matplotlib.figure.Figure at 0x22016671e48>"
      ]
     },
     "metadata": {},
     "output_type": "display_data"
    }
   ],
   "source": [
    "f['WORKSITE'].value_counts().head(20).plot(kind='bar')"
   ]
  },
  {
   "cell_type": "code",
   "execution_count": 19,
   "metadata": {},
   "outputs": [
    {
     "data": {
      "text/plain": [
       "0        ANN ARBOR, MICHIGAN\n",
       "1               PLANO, TEXAS\n",
       "2    JERSEY CITY, NEW JERSEY\n",
       "3           DENVER, COLORADO\n",
       "4        ST. LOUIS, MISSOURI\n",
       "Name: WORKSITE, dtype: object"
      ]
     },
     "execution_count": 19,
     "metadata": {},
     "output_type": "execute_result"
    }
   ],
   "source": [
    "f.loc[:,'WORKSITE'].head()"
   ]
  },
  {
   "cell_type": "code",
   "execution_count": 20,
   "metadata": {},
   "outputs": [
    {
     "data": {
      "text/plain": [
       "Index(['CASE_STATUS', 'EMPLOYER_NAME', 'SOC_NAME', 'JOB_TITLE',\n",
       "       'FULL_TIME_POSITION', 'PREVAILING_WAGE', 'YEAR', 'WORKSITE', 'lon',\n",
       "       'lat'],\n",
       "      dtype='object')"
      ]
     },
     "execution_count": 20,
     "metadata": {},
     "output_type": "execute_result"
    }
   ],
   "source": [
    "f.columns"
   ]
  },
  {
   "cell_type": "code",
   "execution_count": 18,
   "metadata": {},
   "outputs": [],
   "source": [
    "f.loc[:,'WORKSITE'] = f.loc[:,'WORKSITE'].apply(lambda s:s.split(',')[1][1:])"
   ]
  },
  {
   "cell_type": "code",
   "execution_count": 19,
   "metadata": {},
   "outputs": [
    {
     "data": {
      "text/html": [
       "<div>\n",
       "<style scoped>\n",
       "    .dataframe tbody tr th:only-of-type {\n",
       "        vertical-align: middle;\n",
       "    }\n",
       "\n",
       "    .dataframe tbody tr th {\n",
       "        vertical-align: top;\n",
       "    }\n",
       "\n",
       "    .dataframe thead th {\n",
       "        text-align: right;\n",
       "    }\n",
       "</style>\n",
       "<table border=\"1\" class=\"dataframe\">\n",
       "  <thead>\n",
       "    <tr style=\"text-align: right;\">\n",
       "      <th></th>\n",
       "      <th>CASE_STATUS</th>\n",
       "      <th>EMPLOYER_NAME</th>\n",
       "      <th>SOC_NAME</th>\n",
       "      <th>JOB_TITLE</th>\n",
       "      <th>FULL_TIME_POSITION</th>\n",
       "      <th>PREVAILING_WAGE</th>\n",
       "      <th>YEAR</th>\n",
       "      <th>WORKSITE</th>\n",
       "      <th>lon</th>\n",
       "      <th>lat</th>\n",
       "    </tr>\n",
       "  </thead>\n",
       "  <tbody>\n",
       "    <tr>\n",
       "      <th>0</th>\n",
       "      <td>CERTIFIED-WITHDRAWN</td>\n",
       "      <td>UNIVERSITY OF MICHIGAN</td>\n",
       "      <td>BIOCHEMISTS AND BIOPHYSICISTS</td>\n",
       "      <td>POSTDOCTORAL RESEARCH FELLOW</td>\n",
       "      <td>N</td>\n",
       "      <td>36067.0</td>\n",
       "      <td>2016.0</td>\n",
       "      <td>MICHIGAN</td>\n",
       "      <td>-83.743038</td>\n",
       "      <td>42.280826</td>\n",
       "    </tr>\n",
       "    <tr>\n",
       "      <th>1</th>\n",
       "      <td>CERTIFIED-WITHDRAWN</td>\n",
       "      <td>GOODMAN NETWORKS, INC.</td>\n",
       "      <td>CHIEF EXECUTIVES</td>\n",
       "      <td>CHIEF OPERATING OFFICER</td>\n",
       "      <td>Y</td>\n",
       "      <td>242674.0</td>\n",
       "      <td>2016.0</td>\n",
       "      <td>TEXAS</td>\n",
       "      <td>-96.698886</td>\n",
       "      <td>33.019843</td>\n",
       "    </tr>\n",
       "    <tr>\n",
       "      <th>2</th>\n",
       "      <td>CERTIFIED-WITHDRAWN</td>\n",
       "      <td>PORTS AMERICA GROUP, INC.</td>\n",
       "      <td>CHIEF EXECUTIVES</td>\n",
       "      <td>CHIEF PROCESS OFFICER</td>\n",
       "      <td>Y</td>\n",
       "      <td>193066.0</td>\n",
       "      <td>2016.0</td>\n",
       "      <td>NEW JERSEY</td>\n",
       "      <td>-74.077642</td>\n",
       "      <td>40.728158</td>\n",
       "    </tr>\n",
       "    <tr>\n",
       "      <th>3</th>\n",
       "      <td>CERTIFIED-WITHDRAWN</td>\n",
       "      <td>GATES CORPORATION, A WHOLLY-OWNED SUBSIDIARY O...</td>\n",
       "      <td>CHIEF EXECUTIVES</td>\n",
       "      <td>REGIONAL PRESIDEN, AMERICAS</td>\n",
       "      <td>Y</td>\n",
       "      <td>220314.0</td>\n",
       "      <td>2016.0</td>\n",
       "      <td>COLORADO</td>\n",
       "      <td>-104.990251</td>\n",
       "      <td>39.739236</td>\n",
       "    </tr>\n",
       "    <tr>\n",
       "      <th>4</th>\n",
       "      <td>WITHDRAWN</td>\n",
       "      <td>PEABODY INVESTMENTS CORP.</td>\n",
       "      <td>CHIEF EXECUTIVES</td>\n",
       "      <td>PRESIDENT MONGOLIA AND INDIA</td>\n",
       "      <td>Y</td>\n",
       "      <td>157518.4</td>\n",
       "      <td>2016.0</td>\n",
       "      <td>MISSOURI</td>\n",
       "      <td>-90.199404</td>\n",
       "      <td>38.627003</td>\n",
       "    </tr>\n",
       "  </tbody>\n",
       "</table>\n",
       "</div>"
      ],
      "text/plain": [
       "           CASE_STATUS                                      EMPLOYER_NAME  \\\n",
       "0  CERTIFIED-WITHDRAWN                             UNIVERSITY OF MICHIGAN   \n",
       "1  CERTIFIED-WITHDRAWN                             GOODMAN NETWORKS, INC.   \n",
       "2  CERTIFIED-WITHDRAWN                          PORTS AMERICA GROUP, INC.   \n",
       "3  CERTIFIED-WITHDRAWN  GATES CORPORATION, A WHOLLY-OWNED SUBSIDIARY O...   \n",
       "4            WITHDRAWN                          PEABODY INVESTMENTS CORP.   \n",
       "\n",
       "                        SOC_NAME                     JOB_TITLE  \\\n",
       "0  BIOCHEMISTS AND BIOPHYSICISTS  POSTDOCTORAL RESEARCH FELLOW   \n",
       "1               CHIEF EXECUTIVES       CHIEF OPERATING OFFICER   \n",
       "2               CHIEF EXECUTIVES         CHIEF PROCESS OFFICER   \n",
       "3               CHIEF EXECUTIVES   REGIONAL PRESIDEN, AMERICAS   \n",
       "4               CHIEF EXECUTIVES  PRESIDENT MONGOLIA AND INDIA   \n",
       "\n",
       "  FULL_TIME_POSITION  PREVAILING_WAGE    YEAR    WORKSITE         lon  \\\n",
       "0                  N          36067.0  2016.0    MICHIGAN  -83.743038   \n",
       "1                  Y         242674.0  2016.0       TEXAS  -96.698886   \n",
       "2                  Y         193066.0  2016.0  NEW JERSEY  -74.077642   \n",
       "3                  Y         220314.0  2016.0    COLORADO -104.990251   \n",
       "4                  Y         157518.4  2016.0    MISSOURI  -90.199404   \n",
       "\n",
       "         lat  \n",
       "0  42.280826  \n",
       "1  33.019843  \n",
       "2  40.728158  \n",
       "3  39.739236  \n",
       "4  38.627003  "
      ]
     },
     "execution_count": 19,
     "metadata": {},
     "output_type": "execute_result"
    }
   ],
   "source": [
    "f.head()"
   ]
  },
  {
   "cell_type": "code",
   "execution_count": 20,
   "metadata": {},
   "outputs": [
    {
     "name": "stdout",
     "output_type": "stream",
     "text": [
      "53\n"
     ]
    }
   ],
   "source": [
    "def change_NA(rec):\n",
    "    if (rec == 'NA') : \n",
    "        return 'MARIANA ISLANDS'\n",
    "    return rec\n",
    "f.loc[:,'WORKSITE'] = f.loc[:,'WORKSITE'].apply(lambda rec : change_NA(rec))\n",
    "print(len(f.loc[:,'WORKSITE'].unique()))"
   ]
  },
  {
   "cell_type": "code",
   "execution_count": 21,
   "metadata": {},
   "outputs": [
    {
     "data": {
      "text/plain": [
       "Index(['CASE_STATUS', 'EMPLOYER_NAME', 'SOC_NAME', 'JOB_TITLE',\n",
       "       'FULL_TIME_POSITION', 'PREVAILING_WAGE', 'YEAR', 'WORKSITE', 'lon',\n",
       "       'lat'],\n",
       "      dtype='object')"
      ]
     },
     "execution_count": 21,
     "metadata": {},
     "output_type": "execute_result"
    }
   ],
   "source": [
    "f.columns"
   ]
  },
  {
   "cell_type": "code",
   "execution_count": 23,
   "metadata": {},
   "outputs": [],
   "source": [
    "f.rename(columns={'EMPLOYER_NAME':'EMPLOYER','FULL_TIME_POSITION':'FULL_T','PREVAILING_WAGE':'PREV_WAGE','WORKSITE':'STATE','lon':'LON','lat':'LAT'},inplace=True)"
   ]
  },
  {
   "cell_type": "code",
   "execution_count": 24,
   "metadata": {},
   "outputs": [],
   "source": [
    "columns_to_keep = [ 'CASE_STATUS','YEAR','STATE','SOC_NAME','JOB_TITLE','FULL_T','PREV_WAGE','EMPLOYER','LON',\"LAT\"]"
   ]
  },
  {
   "cell_type": "code",
   "execution_count": 26,
   "metadata": {},
   "outputs": [
    {
     "data": {
      "text/html": [
       "<div>\n",
       "<style scoped>\n",
       "    .dataframe tbody tr th:only-of-type {\n",
       "        vertical-align: middle;\n",
       "    }\n",
       "\n",
       "    .dataframe tbody tr th {\n",
       "        vertical-align: top;\n",
       "    }\n",
       "\n",
       "    .dataframe thead th {\n",
       "        text-align: right;\n",
       "    }\n",
       "</style>\n",
       "<table border=\"1\" class=\"dataframe\">\n",
       "  <thead>\n",
       "    <tr style=\"text-align: right;\">\n",
       "      <th></th>\n",
       "      <th>CASE_STATUS</th>\n",
       "      <th>YEAR</th>\n",
       "      <th>STATE</th>\n",
       "      <th>SOC_NAME</th>\n",
       "      <th>JOB_TITLE</th>\n",
       "      <th>FULL_T</th>\n",
       "      <th>PREV_WAGE</th>\n",
       "      <th>EMPLOYER</th>\n",
       "      <th>LON</th>\n",
       "      <th>LAT</th>\n",
       "    </tr>\n",
       "  </thead>\n",
       "  <tbody>\n",
       "    <tr>\n",
       "      <th>0</th>\n",
       "      <td>CERTIFIED-WITHDRAWN</td>\n",
       "      <td>2016.0</td>\n",
       "      <td>MICHIGAN</td>\n",
       "      <td>BIOCHEMISTS AND BIOPHYSICISTS</td>\n",
       "      <td>POSTDOCTORAL RESEARCH FELLOW</td>\n",
       "      <td>N</td>\n",
       "      <td>36067.00</td>\n",
       "      <td>UNIVERSITY OF MICHIGAN</td>\n",
       "      <td>-83.743038</td>\n",
       "      <td>42.280826</td>\n",
       "    </tr>\n",
       "    <tr>\n",
       "      <th>1</th>\n",
       "      <td>CERTIFIED-WITHDRAWN</td>\n",
       "      <td>2016.0</td>\n",
       "      <td>TEXAS</td>\n",
       "      <td>CHIEF EXECUTIVES</td>\n",
       "      <td>CHIEF OPERATING OFFICER</td>\n",
       "      <td>Y</td>\n",
       "      <td>242674.00</td>\n",
       "      <td>GOODMAN NETWORKS, INC.</td>\n",
       "      <td>-96.698886</td>\n",
       "      <td>33.019843</td>\n",
       "    </tr>\n",
       "    <tr>\n",
       "      <th>2</th>\n",
       "      <td>CERTIFIED-WITHDRAWN</td>\n",
       "      <td>2016.0</td>\n",
       "      <td>NEW JERSEY</td>\n",
       "      <td>CHIEF EXECUTIVES</td>\n",
       "      <td>CHIEF PROCESS OFFICER</td>\n",
       "      <td>Y</td>\n",
       "      <td>193066.00</td>\n",
       "      <td>PORTS AMERICA GROUP, INC.</td>\n",
       "      <td>-74.077642</td>\n",
       "      <td>40.728158</td>\n",
       "    </tr>\n",
       "    <tr>\n",
       "      <th>3</th>\n",
       "      <td>CERTIFIED-WITHDRAWN</td>\n",
       "      <td>2016.0</td>\n",
       "      <td>COLORADO</td>\n",
       "      <td>CHIEF EXECUTIVES</td>\n",
       "      <td>REGIONAL PRESIDEN, AMERICAS</td>\n",
       "      <td>Y</td>\n",
       "      <td>220314.00</td>\n",
       "      <td>GATES CORPORATION, A WHOLLY-OWNED SUBSIDIARY O...</td>\n",
       "      <td>-104.990251</td>\n",
       "      <td>39.739236</td>\n",
       "    </tr>\n",
       "    <tr>\n",
       "      <th>4</th>\n",
       "      <td>WITHDRAWN</td>\n",
       "      <td>2016.0</td>\n",
       "      <td>MISSOURI</td>\n",
       "      <td>CHIEF EXECUTIVES</td>\n",
       "      <td>PRESIDENT MONGOLIA AND INDIA</td>\n",
       "      <td>Y</td>\n",
       "      <td>157518.40</td>\n",
       "      <td>PEABODY INVESTMENTS CORP.</td>\n",
       "      <td>-90.199404</td>\n",
       "      <td>38.627003</td>\n",
       "    </tr>\n",
       "    <tr>\n",
       "      <th>5</th>\n",
       "      <td>CERTIFIED-WITHDRAWN</td>\n",
       "      <td>2016.0</td>\n",
       "      <td>FLORIDA</td>\n",
       "      <td>CHIEF EXECUTIVES</td>\n",
       "      <td>EXECUTIVE V P, GLOBAL DEVELOPMENT AND PRESIDEN...</td>\n",
       "      <td>Y</td>\n",
       "      <td>225000.00</td>\n",
       "      <td>BURGER KING CORPORATION</td>\n",
       "      <td>-80.191790</td>\n",
       "      <td>25.761680</td>\n",
       "    </tr>\n",
       "    <tr>\n",
       "      <th>6</th>\n",
       "      <td>CERTIFIED-WITHDRAWN</td>\n",
       "      <td>2016.0</td>\n",
       "      <td>TEXAS</td>\n",
       "      <td>CHIEF EXECUTIVES</td>\n",
       "      <td>CHIEF OPERATING OFFICER</td>\n",
       "      <td>Y</td>\n",
       "      <td>91021.00</td>\n",
       "      <td>BT AND MK ENERGY AND COMMODITIES</td>\n",
       "      <td>-95.369803</td>\n",
       "      <td>29.760427</td>\n",
       "    </tr>\n",
       "    <tr>\n",
       "      <th>7</th>\n",
       "      <td>CERTIFIED-WITHDRAWN</td>\n",
       "      <td>2016.0</td>\n",
       "      <td>CALIFORNIA</td>\n",
       "      <td>CHIEF EXECUTIVES</td>\n",
       "      <td>CHIEF OPERATIONS OFFICER</td>\n",
       "      <td>Y</td>\n",
       "      <td>150000.00</td>\n",
       "      <td>GLOBO MOBILE TECHNOLOGIES, INC.</td>\n",
       "      <td>-121.886329</td>\n",
       "      <td>37.338208</td>\n",
       "    </tr>\n",
       "    <tr>\n",
       "      <th>9</th>\n",
       "      <td>WITHDRAWN</td>\n",
       "      <td>2016.0</td>\n",
       "      <td>VIRGINIA</td>\n",
       "      <td>CHIEF EXECUTIVES</td>\n",
       "      <td>PRESIDENT</td>\n",
       "      <td>Y</td>\n",
       "      <td>154648.00</td>\n",
       "      <td>LESSARD INTERNATIONAL LLC</td>\n",
       "      <td>-77.265260</td>\n",
       "      <td>38.901222</td>\n",
       "    </tr>\n",
       "    <tr>\n",
       "      <th>10</th>\n",
       "      <td>CERTIFIED-WITHDRAWN</td>\n",
       "      <td>2016.0</td>\n",
       "      <td>PENNSYLVANIA</td>\n",
       "      <td>CHIEF EXECUTIVES</td>\n",
       "      <td>CHIEF INFORMATION OFFICER, HEINZ NORTH AMERICA</td>\n",
       "      <td>Y</td>\n",
       "      <td>182978.00</td>\n",
       "      <td>H.J. HEINZ COMPANY</td>\n",
       "      <td>-79.995886</td>\n",
       "      <td>40.440625</td>\n",
       "    </tr>\n",
       "    <tr>\n",
       "      <th>11</th>\n",
       "      <td>CERTIFIED-WITHDRAWN</td>\n",
       "      <td>2016.0</td>\n",
       "      <td>MICHIGAN</td>\n",
       "      <td>CHIEF EXECUTIVES</td>\n",
       "      <td>VICE PRESIDENT AND CHIEF HUMAN RESOURCES OFFICER</td>\n",
       "      <td>Y</td>\n",
       "      <td>163717.00</td>\n",
       "      <td>DOW CORNING CORPORATION</td>\n",
       "      <td>-84.247212</td>\n",
       "      <td>43.615583</td>\n",
       "    </tr>\n",
       "    <tr>\n",
       "      <th>13</th>\n",
       "      <td>CERTIFIED-WITHDRAWN</td>\n",
       "      <td>2016.0</td>\n",
       "      <td>FLORIDA</td>\n",
       "      <td>CHIEF EXECUTIVES</td>\n",
       "      <td>CHIEF COMMERCIAL OFFICER</td>\n",
       "      <td>Y</td>\n",
       "      <td>252637.00</td>\n",
       "      <td>BIOCAIR, INC.</td>\n",
       "      <td>-80.191790</td>\n",
       "      <td>25.761680</td>\n",
       "    </tr>\n",
       "    <tr>\n",
       "      <th>14</th>\n",
       "      <td>CERTIFIED-WITHDRAWN</td>\n",
       "      <td>2016.0</td>\n",
       "      <td>COLORADO</td>\n",
       "      <td>CHIEF EXECUTIVES</td>\n",
       "      <td>BOARD MEMBER</td>\n",
       "      <td>Y</td>\n",
       "      <td>105914.00</td>\n",
       "      <td>NEWMONT MINING CORPORATION</td>\n",
       "      <td>-104.950814</td>\n",
       "      <td>39.617210</td>\n",
       "    </tr>\n",
       "    <tr>\n",
       "      <th>15</th>\n",
       "      <td>CERTIFIED-WITHDRAWN</td>\n",
       "      <td>2016.0</td>\n",
       "      <td>VIRGINIA</td>\n",
       "      <td>CHIEF EXECUTIVES</td>\n",
       "      <td>CHIEF FINANCIAL OFFICER</td>\n",
       "      <td>Y</td>\n",
       "      <td>153046.00</td>\n",
       "      <td>VRICON, INC.</td>\n",
       "      <td>-77.429130</td>\n",
       "      <td>39.006699</td>\n",
       "    </tr>\n",
       "    <tr>\n",
       "      <th>16</th>\n",
       "      <td>CERTIFIED-WITHDRAWN</td>\n",
       "      <td>2016.0</td>\n",
       "      <td>WISCONSIN</td>\n",
       "      <td>FINANCIAL MANAGERS</td>\n",
       "      <td>VICE PRESIDENT OF FINANCE</td>\n",
       "      <td>Y</td>\n",
       "      <td>90834.00</td>\n",
       "      <td>CARDIAC SCIENCE CORPORATION</td>\n",
       "      <td>-88.231481</td>\n",
       "      <td>43.011678</td>\n",
       "    </tr>\n",
       "    <tr>\n",
       "      <th>17</th>\n",
       "      <td>CERTIFIED-WITHDRAWN</td>\n",
       "      <td>2016.0</td>\n",
       "      <td>CALIFORNIA</td>\n",
       "      <td>CHIEF EXECUTIVES</td>\n",
       "      <td>GENERAL MANAGER, OPERATIONS</td>\n",
       "      <td>Y</td>\n",
       "      <td>164050.00</td>\n",
       "      <td>WESTFIELD CORPORATION</td>\n",
       "      <td>-118.243685</td>\n",
       "      <td>34.052234</td>\n",
       "    </tr>\n",
       "    <tr>\n",
       "      <th>18</th>\n",
       "      <td>CERTIFIED</td>\n",
       "      <td>2016.0</td>\n",
       "      <td>CALIFORNIA</td>\n",
       "      <td>CHIEF EXECUTIVES</td>\n",
       "      <td>CEO</td>\n",
       "      <td>Y</td>\n",
       "      <td>187200.00</td>\n",
       "      <td>QUICKLOGIX LLC</td>\n",
       "      <td>-121.955236</td>\n",
       "      <td>37.354108</td>\n",
       "    </tr>\n",
       "    <tr>\n",
       "      <th>19</th>\n",
       "      <td>CERTIFIED</td>\n",
       "      <td>2016.0</td>\n",
       "      <td>VIRGINIA</td>\n",
       "      <td>CHIEF EXECUTIVES</td>\n",
       "      <td>PRESIDENT, NORTHEAST REGION</td>\n",
       "      <td>Y</td>\n",
       "      <td>241842.00</td>\n",
       "      <td>MCCHRYSTAL GROUP, LLC</td>\n",
       "      <td>-77.046921</td>\n",
       "      <td>38.804835</td>\n",
       "    </tr>\n",
       "    <tr>\n",
       "      <th>20</th>\n",
       "      <td>CERTIFIED-WITHDRAWN</td>\n",
       "      <td>2016.0</td>\n",
       "      <td>CALIFORNIA</td>\n",
       "      <td>CHIEF EXECUTIVES</td>\n",
       "      <td>CHIEF OPERATING OFFICER (COO)</td>\n",
       "      <td>Y</td>\n",
       "      <td>117998.00</td>\n",
       "      <td>CUDDLE BARN, INC.</td>\n",
       "      <td>-118.159793</td>\n",
       "      <td>34.000569</td>\n",
       "    </tr>\n",
       "    <tr>\n",
       "      <th>21</th>\n",
       "      <td>CERTIFIED-WITHDRAWN</td>\n",
       "      <td>2016.0</td>\n",
       "      <td>CALIFORNIA</td>\n",
       "      <td>CHIEF EXECUTIVES</td>\n",
       "      <td>GENERAL MANAGER, OPERATIONS</td>\n",
       "      <td>Y</td>\n",
       "      <td>164050.00</td>\n",
       "      <td>WESTFIELD CORPORATION</td>\n",
       "      <td>-118.243685</td>\n",
       "      <td>34.052234</td>\n",
       "    </tr>\n",
       "    <tr>\n",
       "      <th>22</th>\n",
       "      <td>CERTIFIED</td>\n",
       "      <td>2016.0</td>\n",
       "      <td>CALIFORNIA</td>\n",
       "      <td>CHIEF EXECUTIVES</td>\n",
       "      <td>CEO</td>\n",
       "      <td>Y</td>\n",
       "      <td>99986.00</td>\n",
       "      <td>LOMICS, LLC</td>\n",
       "      <td>-117.161084</td>\n",
       "      <td>32.715738</td>\n",
       "    </tr>\n",
       "    <tr>\n",
       "      <th>23</th>\n",
       "      <td>CERTIFIED</td>\n",
       "      <td>2016.0</td>\n",
       "      <td>CALIFORNIA</td>\n",
       "      <td>CHIEF EXECUTIVES</td>\n",
       "      <td>CHIEF FINANCIAL OFFICER</td>\n",
       "      <td>Y</td>\n",
       "      <td>99986.00</td>\n",
       "      <td>UC UNIVERSITY HIGH SCHOOL EDUCATION INC.</td>\n",
       "      <td>-117.084196</td>\n",
       "      <td>32.640054</td>\n",
       "    </tr>\n",
       "    <tr>\n",
       "      <th>24</th>\n",
       "      <td>CERTIFIED-WITHDRAWN</td>\n",
       "      <td>2016.0</td>\n",
       "      <td>FLORIDA</td>\n",
       "      <td>CHIEF EXECUTIVES</td>\n",
       "      <td>CHIEF OPERATING OFFICER</td>\n",
       "      <td>Y</td>\n",
       "      <td>159370.00</td>\n",
       "      <td>VMS COMMUNICATIONS LLC</td>\n",
       "      <td>-80.191790</td>\n",
       "      <td>25.761680</td>\n",
       "    </tr>\n",
       "    <tr>\n",
       "      <th>25</th>\n",
       "      <td>CERTIFIED</td>\n",
       "      <td>2016.0</td>\n",
       "      <td>CALIFORNIA</td>\n",
       "      <td>CHIEF EXECUTIVES</td>\n",
       "      <td>CEO</td>\n",
       "      <td>Y</td>\n",
       "      <td>187200.00</td>\n",
       "      <td>QUICKLOGIX, INC.</td>\n",
       "      <td>-121.955236</td>\n",
       "      <td>37.354108</td>\n",
       "    </tr>\n",
       "    <tr>\n",
       "      <th>26</th>\n",
       "      <td>CERTIFIED-WITHDRAWN</td>\n",
       "      <td>2016.0</td>\n",
       "      <td>ILLINOIS</td>\n",
       "      <td>CHIEF EXECUTIVES</td>\n",
       "      <td>CHIEF EXECUTIVE OFFICER</td>\n",
       "      <td>Y</td>\n",
       "      <td>130853.00</td>\n",
       "      <td>FOODESSENTIALS CORPORATION</td>\n",
       "      <td>-87.629798</td>\n",
       "      <td>41.878114</td>\n",
       "    </tr>\n",
       "    <tr>\n",
       "      <th>27</th>\n",
       "      <td>CERTIFIED</td>\n",
       "      <td>2016.0</td>\n",
       "      <td>CALIFORNIA</td>\n",
       "      <td>CHIEF EXECUTIVES</td>\n",
       "      <td>CHIEF BUSINESS OFFICER</td>\n",
       "      <td>Y</td>\n",
       "      <td>215862.00</td>\n",
       "      <td>HELLO INC.</td>\n",
       "      <td>-122.419415</td>\n",
       "      <td>37.774929</td>\n",
       "    </tr>\n",
       "    <tr>\n",
       "      <th>28</th>\n",
       "      <td>CERTIFIED</td>\n",
       "      <td>2016.0</td>\n",
       "      <td>TEXAS</td>\n",
       "      <td>CHIEF EXECUTIVES</td>\n",
       "      <td>VICE PRESIDENT OF ENGINEERING</td>\n",
       "      <td>Y</td>\n",
       "      <td>192088.00</td>\n",
       "      <td>UMBEL CORP</td>\n",
       "      <td>-97.743061</td>\n",
       "      <td>30.267153</td>\n",
       "    </tr>\n",
       "    <tr>\n",
       "      <th>29</th>\n",
       "      <td>CERTIFIED</td>\n",
       "      <td>2016.0</td>\n",
       "      <td>FLORIDA</td>\n",
       "      <td>CHIEF EXECUTIVES</td>\n",
       "      <td>EXECUTIVE DIRECTOR</td>\n",
       "      <td>Y</td>\n",
       "      <td>95295.98</td>\n",
       "      <td>PERSPECTIVES OF FREEDOM FOUNDATION, INC</td>\n",
       "      <td>-80.399775</td>\n",
       "      <td>26.100365</td>\n",
       "    </tr>\n",
       "    <tr>\n",
       "      <th>30</th>\n",
       "      <td>CERTIFIED</td>\n",
       "      <td>2016.0</td>\n",
       "      <td>DISTRICT OF COLUMBIA</td>\n",
       "      <td>CHIEF EXECUTIVES</td>\n",
       "      <td>VICE PRESIDENT, BUSINESS DEVELOPMENT</td>\n",
       "      <td>Y</td>\n",
       "      <td>149594.00</td>\n",
       "      <td>GTH INC.</td>\n",
       "      <td>-77.036871</td>\n",
       "      <td>38.907192</td>\n",
       "    </tr>\n",
       "    <tr>\n",
       "      <th>31</th>\n",
       "      <td>CERTIFIED</td>\n",
       "      <td>2016.0</td>\n",
       "      <td>ILLINOIS</td>\n",
       "      <td>CHIEF EXECUTIVES</td>\n",
       "      <td>HEAD OF US SALES</td>\n",
       "      <td>Y</td>\n",
       "      <td>226699.00</td>\n",
       "      <td>THE KRAFT HEINZ COMPANY</td>\n",
       "      <td>-87.629798</td>\n",
       "      <td>41.878114</td>\n",
       "    </tr>\n",
       "    <tr>\n",
       "      <th>32</th>\n",
       "      <td>CERTIFIED</td>\n",
       "      <td>2016.0</td>\n",
       "      <td>NORTH CAROLINA</td>\n",
       "      <td>CHIEF EXECUTIVES</td>\n",
       "      <td>CHIEF FINANCIAL OFFICER</td>\n",
       "      <td>Y</td>\n",
       "      <td>187200.00</td>\n",
       "      <td>REGED, INC.</td>\n",
       "      <td>-78.825562</td>\n",
       "      <td>35.823483</td>\n",
       "    </tr>\n",
       "    <tr>\n",
       "      <th>33</th>\n",
       "      <td>CERTIFIED</td>\n",
       "      <td>2016.0</td>\n",
       "      <td>FLORIDA</td>\n",
       "      <td>CHIEF EXECUTIVES</td>\n",
       "      <td>CHIEF OPERATING OFFICER</td>\n",
       "      <td>Y</td>\n",
       "      <td>159370.00</td>\n",
       "      <td>VMS COMMUNICATIONS LLC</td>\n",
       "      <td>-80.191790</td>\n",
       "      <td>25.761680</td>\n",
       "    </tr>\n",
       "    <tr>\n",
       "      <th>34</th>\n",
       "      <td>CERTIFIED</td>\n",
       "      <td>2016.0</td>\n",
       "      <td>RHODE ISLAND</td>\n",
       "      <td>CHIEF EXECUTIVES</td>\n",
       "      <td>VICE PRESIDENT OF OPERATIONS</td>\n",
       "      <td>Y</td>\n",
       "      <td>98550.00</td>\n",
       "      <td>FINLAY EXTRACTS &amp; INGREDIENTS USA, INC.</td>\n",
       "      <td>-71.441810</td>\n",
       "      <td>41.911012</td>\n",
       "    </tr>\n",
       "    <tr>\n",
       "      <th>35</th>\n",
       "      <td>CERTIFIED-WITHDRAWN</td>\n",
       "      <td>2016.0</td>\n",
       "      <td>ILLINOIS</td>\n",
       "      <td>CHIEF EXECUTIVES</td>\n",
       "      <td>CHIEF EXECUTIVE OFFICER</td>\n",
       "      <td>Y</td>\n",
       "      <td>130853.00</td>\n",
       "      <td>LABEL INSIGHT</td>\n",
       "      <td>-87.629798</td>\n",
       "      <td>41.878114</td>\n",
       "    </tr>\n",
       "    <tr>\n",
       "      <th>36</th>\n",
       "      <td>CERTIFIED</td>\n",
       "      <td>2016.0</td>\n",
       "      <td>ILLINOIS</td>\n",
       "      <td>CHIEF EXECUTIVES</td>\n",
       "      <td>CHIEF EXECUTIVE OFFICER</td>\n",
       "      <td>Y</td>\n",
       "      <td>130853.00</td>\n",
       "      <td>LABEL INSIGHT</td>\n",
       "      <td>-87.629798</td>\n",
       "      <td>41.878114</td>\n",
       "    </tr>\n",
       "    <tr>\n",
       "      <th>37</th>\n",
       "      <td>CERTIFIED</td>\n",
       "      <td>2016.0</td>\n",
       "      <td>OHIO</td>\n",
       "      <td>CHIEF EXECUTIVES</td>\n",
       "      <td>CHIEF EXECUTIVE OFFICER</td>\n",
       "      <td>N</td>\n",
       "      <td>52416.00</td>\n",
       "      <td>INN AT THE WICKLIFFE LLC</td>\n",
       "      <td>-81.453449</td>\n",
       "      <td>41.605327</td>\n",
       "    </tr>\n",
       "    <tr>\n",
       "      <th>38</th>\n",
       "      <td>CERTIFIED</td>\n",
       "      <td>2016.0</td>\n",
       "      <td>ILLINOIS</td>\n",
       "      <td>CHIEF EXECUTIVES</td>\n",
       "      <td>VICE PRESIDENT, FINANCE AND OPERATIONS ANALYSIS</td>\n",
       "      <td>Y</td>\n",
       "      <td>130853.00</td>\n",
       "      <td>DURHAM SCHOOL SERVICES, LP</td>\n",
       "      <td>-88.173402</td>\n",
       "      <td>41.817807</td>\n",
       "    </tr>\n",
       "    <tr>\n",
       "      <th>39</th>\n",
       "      <td>DENIED</td>\n",
       "      <td>2016.0</td>\n",
       "      <td>WASHINGTON</td>\n",
       "      <td>CHIEF EXECUTIVES</td>\n",
       "      <td>CHIEF EXECUTIVE OFFICER</td>\n",
       "      <td>Y</td>\n",
       "      <td>187200.00</td>\n",
       "      <td>PARALLELS, INC.</td>\n",
       "      <td>-122.217066</td>\n",
       "      <td>47.482878</td>\n",
       "    </tr>\n",
       "    <tr>\n",
       "      <th>40</th>\n",
       "      <td>CERTIFIED</td>\n",
       "      <td>2016.0</td>\n",
       "      <td>MICHIGAN</td>\n",
       "      <td>CHIEF EXECUTIVES</td>\n",
       "      <td>CHIEF OPERATING OFFICER</td>\n",
       "      <td>Y</td>\n",
       "      <td>89107.00</td>\n",
       "      <td>CB LANSING 300 LLP</td>\n",
       "      <td>-84.555535</td>\n",
       "      <td>42.732535</td>\n",
       "    </tr>\n",
       "    <tr>\n",
       "      <th>41</th>\n",
       "      <td>CERTIFIED</td>\n",
       "      <td>2016.0</td>\n",
       "      <td>ILLINOIS</td>\n",
       "      <td>CHIEF EXECUTIVES</td>\n",
       "      <td>ACCOUNT DIRECTOR</td>\n",
       "      <td>Y</td>\n",
       "      <td>130853.00</td>\n",
       "      <td>SOFTTEK INTEGRATION SYSTEMS, INC.</td>\n",
       "      <td>-87.828955</td>\n",
       "      <td>42.127527</td>\n",
       "    </tr>\n",
       "    <tr>\n",
       "      <th>42</th>\n",
       "      <td>CERTIFIED</td>\n",
       "      <td>2016.0</td>\n",
       "      <td>GEORGIA</td>\n",
       "      <td>CHIEF EXECUTIVES</td>\n",
       "      <td>TECHNICAL DIRECTOR</td>\n",
       "      <td>Y</td>\n",
       "      <td>102190.00</td>\n",
       "      <td>SPARITY, INC.</td>\n",
       "      <td>-84.294090</td>\n",
       "      <td>34.075376</td>\n",
       "    </tr>\n",
       "    <tr>\n",
       "      <th>43</th>\n",
       "      <td>CERTIFIED</td>\n",
       "      <td>2016.0</td>\n",
       "      <td>CALIFORNIA</td>\n",
       "      <td>CHIEF EXECUTIVES</td>\n",
       "      <td>VICE PRESIDENT OF OPERATIONS</td>\n",
       "      <td>Y</td>\n",
       "      <td>197683.00</td>\n",
       "      <td>ADCONION DIRECT, INC.</td>\n",
       "      <td>-117.271148</td>\n",
       "      <td>32.991155</td>\n",
       "    </tr>\n",
       "    <tr>\n",
       "      <th>44</th>\n",
       "      <td>CERTIFIED</td>\n",
       "      <td>2016.0</td>\n",
       "      <td>NEW YORK</td>\n",
       "      <td>CHIEF EXECUTIVES</td>\n",
       "      <td>SVP BUSINESS OPERATIONS AND DEVELOPMENT</td>\n",
       "      <td>Y</td>\n",
       "      <td>122179.00</td>\n",
       "      <td>MAVENCARE US INC.</td>\n",
       "      <td>-74.005941</td>\n",
       "      <td>40.712784</td>\n",
       "    </tr>\n",
       "    <tr>\n",
       "      <th>46</th>\n",
       "      <td>CERTIFIED</td>\n",
       "      <td>2016.0</td>\n",
       "      <td>NEW JERSEY</td>\n",
       "      <td>CHIEF EXECUTIVES</td>\n",
       "      <td>CHIEF FINANCIAL OFFICER</td>\n",
       "      <td>Y</td>\n",
       "      <td>187200.00</td>\n",
       "      <td>MED ADVANTAGE LLC</td>\n",
       "      <td>-74.185421</td>\n",
       "      <td>40.806755</td>\n",
       "    </tr>\n",
       "    <tr>\n",
       "      <th>47</th>\n",
       "      <td>DENIED</td>\n",
       "      <td>2016.0</td>\n",
       "      <td>CALIFORNIA</td>\n",
       "      <td>CHIEF EXECUTIVES</td>\n",
       "      <td>PRESIDENT</td>\n",
       "      <td>Y</td>\n",
       "      <td>197683.20</td>\n",
       "      <td>RANCHO LA PUERTA LLC</td>\n",
       "      <td>-117.161084</td>\n",
       "      <td>32.715738</td>\n",
       "    </tr>\n",
       "    <tr>\n",
       "      <th>48</th>\n",
       "      <td>CERTIFIED</td>\n",
       "      <td>2016.0</td>\n",
       "      <td>CALIFORNIA</td>\n",
       "      <td>CHIEF EXECUTIVES</td>\n",
       "      <td>CHIEF EXECUTIVE OFFICER</td>\n",
       "      <td>Y</td>\n",
       "      <td>155459.20</td>\n",
       "      <td>STRATEGISM, INC.</td>\n",
       "      <td>-121.988572</td>\n",
       "      <td>37.548270</td>\n",
       "    </tr>\n",
       "    <tr>\n",
       "      <th>49</th>\n",
       "      <td>CERTIFIED</td>\n",
       "      <td>2016.0</td>\n",
       "      <td>CALIFORNIA</td>\n",
       "      <td>CHIEF EXECUTIVES</td>\n",
       "      <td>PRESIDENT</td>\n",
       "      <td>Y</td>\n",
       "      <td>197683.20</td>\n",
       "      <td>RANCHO LA PUERTA LLC</td>\n",
       "      <td>-117.161084</td>\n",
       "      <td>32.715738</td>\n",
       "    </tr>\n",
       "    <tr>\n",
       "      <th>50</th>\n",
       "      <td>CERTIFIED</td>\n",
       "      <td>2016.0</td>\n",
       "      <td>TEXAS</td>\n",
       "      <td>CHIEF EXECUTIVES</td>\n",
       "      <td>CHIEF MEDICAL OFFICER</td>\n",
       "      <td>Y</td>\n",
       "      <td>187200.00</td>\n",
       "      <td>SPRING BRANCH COMMUNITY HEALTH CENTER</td>\n",
       "      <td>-95.824396</td>\n",
       "      <td>29.785785</td>\n",
       "    </tr>\n",
       "    <tr>\n",
       "      <th>51</th>\n",
       "      <td>CERTIFIED</td>\n",
       "      <td>2016.0</td>\n",
       "      <td>TEXAS</td>\n",
       "      <td>CHIEF EXECUTIVES</td>\n",
       "      <td>CHIEF MEDICAL OFFICER</td>\n",
       "      <td>Y</td>\n",
       "      <td>187200.00</td>\n",
       "      <td>SPRING BRANCH COMMUNITY HEALTH CENTER</td>\n",
       "      <td>-95.369803</td>\n",
       "      <td>29.760427</td>\n",
       "    </tr>\n",
       "    <tr>\n",
       "      <th>52</th>\n",
       "      <td>CERTIFIED</td>\n",
       "      <td>2016.0</td>\n",
       "      <td>GEORGIA</td>\n",
       "      <td>CHIEF EXECUTIVES</td>\n",
       "      <td>ASSISTANT VICE PRESIDENT, BUSINESS DEVELOPMENT</td>\n",
       "      <td>Y</td>\n",
       "      <td>102190.00</td>\n",
       "      <td>PAXTERRA SOLUTIONS, INC.</td>\n",
       "      <td>-84.198579</td>\n",
       "      <td>34.028926</td>\n",
       "    </tr>\n",
       "  </tbody>\n",
       "</table>\n",
       "</div>"
      ],
      "text/plain": [
       "            CASE_STATUS    YEAR                 STATE  \\\n",
       "0   CERTIFIED-WITHDRAWN  2016.0              MICHIGAN   \n",
       "1   CERTIFIED-WITHDRAWN  2016.0                 TEXAS   \n",
       "2   CERTIFIED-WITHDRAWN  2016.0            NEW JERSEY   \n",
       "3   CERTIFIED-WITHDRAWN  2016.0              COLORADO   \n",
       "4             WITHDRAWN  2016.0              MISSOURI   \n",
       "5   CERTIFIED-WITHDRAWN  2016.0               FLORIDA   \n",
       "6   CERTIFIED-WITHDRAWN  2016.0                 TEXAS   \n",
       "7   CERTIFIED-WITHDRAWN  2016.0            CALIFORNIA   \n",
       "9             WITHDRAWN  2016.0              VIRGINIA   \n",
       "10  CERTIFIED-WITHDRAWN  2016.0          PENNSYLVANIA   \n",
       "11  CERTIFIED-WITHDRAWN  2016.0              MICHIGAN   \n",
       "13  CERTIFIED-WITHDRAWN  2016.0               FLORIDA   \n",
       "14  CERTIFIED-WITHDRAWN  2016.0              COLORADO   \n",
       "15  CERTIFIED-WITHDRAWN  2016.0              VIRGINIA   \n",
       "16  CERTIFIED-WITHDRAWN  2016.0             WISCONSIN   \n",
       "17  CERTIFIED-WITHDRAWN  2016.0            CALIFORNIA   \n",
       "18            CERTIFIED  2016.0            CALIFORNIA   \n",
       "19            CERTIFIED  2016.0              VIRGINIA   \n",
       "20  CERTIFIED-WITHDRAWN  2016.0            CALIFORNIA   \n",
       "21  CERTIFIED-WITHDRAWN  2016.0            CALIFORNIA   \n",
       "22            CERTIFIED  2016.0            CALIFORNIA   \n",
       "23            CERTIFIED  2016.0            CALIFORNIA   \n",
       "24  CERTIFIED-WITHDRAWN  2016.0               FLORIDA   \n",
       "25            CERTIFIED  2016.0            CALIFORNIA   \n",
       "26  CERTIFIED-WITHDRAWN  2016.0              ILLINOIS   \n",
       "27            CERTIFIED  2016.0            CALIFORNIA   \n",
       "28            CERTIFIED  2016.0                 TEXAS   \n",
       "29            CERTIFIED  2016.0               FLORIDA   \n",
       "30            CERTIFIED  2016.0  DISTRICT OF COLUMBIA   \n",
       "31            CERTIFIED  2016.0              ILLINOIS   \n",
       "32            CERTIFIED  2016.0        NORTH CAROLINA   \n",
       "33            CERTIFIED  2016.0               FLORIDA   \n",
       "34            CERTIFIED  2016.0          RHODE ISLAND   \n",
       "35  CERTIFIED-WITHDRAWN  2016.0              ILLINOIS   \n",
       "36            CERTIFIED  2016.0              ILLINOIS   \n",
       "37            CERTIFIED  2016.0                  OHIO   \n",
       "38            CERTIFIED  2016.0              ILLINOIS   \n",
       "39               DENIED  2016.0            WASHINGTON   \n",
       "40            CERTIFIED  2016.0              MICHIGAN   \n",
       "41            CERTIFIED  2016.0              ILLINOIS   \n",
       "42            CERTIFIED  2016.0               GEORGIA   \n",
       "43            CERTIFIED  2016.0            CALIFORNIA   \n",
       "44            CERTIFIED  2016.0              NEW YORK   \n",
       "46            CERTIFIED  2016.0            NEW JERSEY   \n",
       "47               DENIED  2016.0            CALIFORNIA   \n",
       "48            CERTIFIED  2016.0            CALIFORNIA   \n",
       "49            CERTIFIED  2016.0            CALIFORNIA   \n",
       "50            CERTIFIED  2016.0                 TEXAS   \n",
       "51            CERTIFIED  2016.0                 TEXAS   \n",
       "52            CERTIFIED  2016.0               GEORGIA   \n",
       "\n",
       "                         SOC_NAME  \\\n",
       "0   BIOCHEMISTS AND BIOPHYSICISTS   \n",
       "1                CHIEF EXECUTIVES   \n",
       "2                CHIEF EXECUTIVES   \n",
       "3                CHIEF EXECUTIVES   \n",
       "4                CHIEF EXECUTIVES   \n",
       "5                CHIEF EXECUTIVES   \n",
       "6                CHIEF EXECUTIVES   \n",
       "7                CHIEF EXECUTIVES   \n",
       "9                CHIEF EXECUTIVES   \n",
       "10               CHIEF EXECUTIVES   \n",
       "11               CHIEF EXECUTIVES   \n",
       "13               CHIEF EXECUTIVES   \n",
       "14               CHIEF EXECUTIVES   \n",
       "15               CHIEF EXECUTIVES   \n",
       "16             FINANCIAL MANAGERS   \n",
       "17               CHIEF EXECUTIVES   \n",
       "18               CHIEF EXECUTIVES   \n",
       "19               CHIEF EXECUTIVES   \n",
       "20               CHIEF EXECUTIVES   \n",
       "21               CHIEF EXECUTIVES   \n",
       "22               CHIEF EXECUTIVES   \n",
       "23               CHIEF EXECUTIVES   \n",
       "24               CHIEF EXECUTIVES   \n",
       "25               CHIEF EXECUTIVES   \n",
       "26               CHIEF EXECUTIVES   \n",
       "27               CHIEF EXECUTIVES   \n",
       "28               CHIEF EXECUTIVES   \n",
       "29               CHIEF EXECUTIVES   \n",
       "30               CHIEF EXECUTIVES   \n",
       "31               CHIEF EXECUTIVES   \n",
       "32               CHIEF EXECUTIVES   \n",
       "33               CHIEF EXECUTIVES   \n",
       "34               CHIEF EXECUTIVES   \n",
       "35               CHIEF EXECUTIVES   \n",
       "36               CHIEF EXECUTIVES   \n",
       "37               CHIEF EXECUTIVES   \n",
       "38               CHIEF EXECUTIVES   \n",
       "39               CHIEF EXECUTIVES   \n",
       "40               CHIEF EXECUTIVES   \n",
       "41               CHIEF EXECUTIVES   \n",
       "42               CHIEF EXECUTIVES   \n",
       "43               CHIEF EXECUTIVES   \n",
       "44               CHIEF EXECUTIVES   \n",
       "46               CHIEF EXECUTIVES   \n",
       "47               CHIEF EXECUTIVES   \n",
       "48               CHIEF EXECUTIVES   \n",
       "49               CHIEF EXECUTIVES   \n",
       "50               CHIEF EXECUTIVES   \n",
       "51               CHIEF EXECUTIVES   \n",
       "52               CHIEF EXECUTIVES   \n",
       "\n",
       "                                            JOB_TITLE FULL_T  PREV_WAGE  \\\n",
       "0                        POSTDOCTORAL RESEARCH FELLOW      N   36067.00   \n",
       "1                             CHIEF OPERATING OFFICER      Y  242674.00   \n",
       "2                               CHIEF PROCESS OFFICER      Y  193066.00   \n",
       "3                         REGIONAL PRESIDEN, AMERICAS      Y  220314.00   \n",
       "4                        PRESIDENT MONGOLIA AND INDIA      Y  157518.40   \n",
       "5   EXECUTIVE V P, GLOBAL DEVELOPMENT AND PRESIDEN...      Y  225000.00   \n",
       "6                             CHIEF OPERATING OFFICER      Y   91021.00   \n",
       "7                            CHIEF OPERATIONS OFFICER      Y  150000.00   \n",
       "9                                           PRESIDENT      Y  154648.00   \n",
       "10     CHIEF INFORMATION OFFICER, HEINZ NORTH AMERICA      Y  182978.00   \n",
       "11   VICE PRESIDENT AND CHIEF HUMAN RESOURCES OFFICER      Y  163717.00   \n",
       "13                           CHIEF COMMERCIAL OFFICER      Y  252637.00   \n",
       "14                                       BOARD MEMBER      Y  105914.00   \n",
       "15                            CHIEF FINANCIAL OFFICER      Y  153046.00   \n",
       "16                          VICE PRESIDENT OF FINANCE      Y   90834.00   \n",
       "17                        GENERAL MANAGER, OPERATIONS      Y  164050.00   \n",
       "18                                                CEO      Y  187200.00   \n",
       "19                        PRESIDENT, NORTHEAST REGION      Y  241842.00   \n",
       "20                      CHIEF OPERATING OFFICER (COO)      Y  117998.00   \n",
       "21                        GENERAL MANAGER, OPERATIONS      Y  164050.00   \n",
       "22                                                CEO      Y   99986.00   \n",
       "23                            CHIEF FINANCIAL OFFICER      Y   99986.00   \n",
       "24                            CHIEF OPERATING OFFICER      Y  159370.00   \n",
       "25                                                CEO      Y  187200.00   \n",
       "26                            CHIEF EXECUTIVE OFFICER      Y  130853.00   \n",
       "27                             CHIEF BUSINESS OFFICER      Y  215862.00   \n",
       "28                      VICE PRESIDENT OF ENGINEERING      Y  192088.00   \n",
       "29                                 EXECUTIVE DIRECTOR      Y   95295.98   \n",
       "30               VICE PRESIDENT, BUSINESS DEVELOPMENT      Y  149594.00   \n",
       "31                                   HEAD OF US SALES      Y  226699.00   \n",
       "32                            CHIEF FINANCIAL OFFICER      Y  187200.00   \n",
       "33                            CHIEF OPERATING OFFICER      Y  159370.00   \n",
       "34                       VICE PRESIDENT OF OPERATIONS      Y   98550.00   \n",
       "35                            CHIEF EXECUTIVE OFFICER      Y  130853.00   \n",
       "36                            CHIEF EXECUTIVE OFFICER      Y  130853.00   \n",
       "37                            CHIEF EXECUTIVE OFFICER      N   52416.00   \n",
       "38    VICE PRESIDENT, FINANCE AND OPERATIONS ANALYSIS      Y  130853.00   \n",
       "39                            CHIEF EXECUTIVE OFFICER      Y  187200.00   \n",
       "40                            CHIEF OPERATING OFFICER      Y   89107.00   \n",
       "41                                   ACCOUNT DIRECTOR      Y  130853.00   \n",
       "42                                 TECHNICAL DIRECTOR      Y  102190.00   \n",
       "43                       VICE PRESIDENT OF OPERATIONS      Y  197683.00   \n",
       "44            SVP BUSINESS OPERATIONS AND DEVELOPMENT      Y  122179.00   \n",
       "46                            CHIEF FINANCIAL OFFICER      Y  187200.00   \n",
       "47                                          PRESIDENT      Y  197683.20   \n",
       "48                            CHIEF EXECUTIVE OFFICER      Y  155459.20   \n",
       "49                                          PRESIDENT      Y  197683.20   \n",
       "50                              CHIEF MEDICAL OFFICER      Y  187200.00   \n",
       "51                              CHIEF MEDICAL OFFICER      Y  187200.00   \n",
       "52     ASSISTANT VICE PRESIDENT, BUSINESS DEVELOPMENT      Y  102190.00   \n",
       "\n",
       "                                             EMPLOYER         LON        LAT  \n",
       "0                              UNIVERSITY OF MICHIGAN  -83.743038  42.280826  \n",
       "1                              GOODMAN NETWORKS, INC.  -96.698886  33.019843  \n",
       "2                           PORTS AMERICA GROUP, INC.  -74.077642  40.728158  \n",
       "3   GATES CORPORATION, A WHOLLY-OWNED SUBSIDIARY O... -104.990251  39.739236  \n",
       "4                           PEABODY INVESTMENTS CORP.  -90.199404  38.627003  \n",
       "5                             BURGER KING CORPORATION  -80.191790  25.761680  \n",
       "6                    BT AND MK ENERGY AND COMMODITIES  -95.369803  29.760427  \n",
       "7                     GLOBO MOBILE TECHNOLOGIES, INC. -121.886329  37.338208  \n",
       "9                           LESSARD INTERNATIONAL LLC  -77.265260  38.901222  \n",
       "10                                 H.J. HEINZ COMPANY  -79.995886  40.440625  \n",
       "11                            DOW CORNING CORPORATION  -84.247212  43.615583  \n",
       "13                                      BIOCAIR, INC.  -80.191790  25.761680  \n",
       "14                         NEWMONT MINING CORPORATION -104.950814  39.617210  \n",
       "15                                       VRICON, INC.  -77.429130  39.006699  \n",
       "16                        CARDIAC SCIENCE CORPORATION  -88.231481  43.011678  \n",
       "17                              WESTFIELD CORPORATION -118.243685  34.052234  \n",
       "18                                     QUICKLOGIX LLC -121.955236  37.354108  \n",
       "19                              MCCHRYSTAL GROUP, LLC  -77.046921  38.804835  \n",
       "20                                  CUDDLE BARN, INC. -118.159793  34.000569  \n",
       "21                              WESTFIELD CORPORATION -118.243685  34.052234  \n",
       "22                                        LOMICS, LLC -117.161084  32.715738  \n",
       "23           UC UNIVERSITY HIGH SCHOOL EDUCATION INC. -117.084196  32.640054  \n",
       "24                             VMS COMMUNICATIONS LLC  -80.191790  25.761680  \n",
       "25                                   QUICKLOGIX, INC. -121.955236  37.354108  \n",
       "26                         FOODESSENTIALS CORPORATION  -87.629798  41.878114  \n",
       "27                                         HELLO INC. -122.419415  37.774929  \n",
       "28                                         UMBEL CORP  -97.743061  30.267153  \n",
       "29            PERSPECTIVES OF FREEDOM FOUNDATION, INC  -80.399775  26.100365  \n",
       "30                                           GTH INC.  -77.036871  38.907192  \n",
       "31                            THE KRAFT HEINZ COMPANY  -87.629798  41.878114  \n",
       "32                                        REGED, INC.  -78.825562  35.823483  \n",
       "33                             VMS COMMUNICATIONS LLC  -80.191790  25.761680  \n",
       "34            FINLAY EXTRACTS & INGREDIENTS USA, INC.  -71.441810  41.911012  \n",
       "35                                      LABEL INSIGHT  -87.629798  41.878114  \n",
       "36                                      LABEL INSIGHT  -87.629798  41.878114  \n",
       "37                           INN AT THE WICKLIFFE LLC  -81.453449  41.605327  \n",
       "38                         DURHAM SCHOOL SERVICES, LP  -88.173402  41.817807  \n",
       "39                                    PARALLELS, INC. -122.217066  47.482878  \n",
       "40                                 CB LANSING 300 LLP  -84.555535  42.732535  \n",
       "41                  SOFTTEK INTEGRATION SYSTEMS, INC.  -87.828955  42.127527  \n",
       "42                                      SPARITY, INC.  -84.294090  34.075376  \n",
       "43                              ADCONION DIRECT, INC. -117.271148  32.991155  \n",
       "44                                  MAVENCARE US INC.  -74.005941  40.712784  \n",
       "46                                  MED ADVANTAGE LLC  -74.185421  40.806755  \n",
       "47                               RANCHO LA PUERTA LLC -117.161084  32.715738  \n",
       "48                                   STRATEGISM, INC. -121.988572  37.548270  \n",
       "49                               RANCHO LA PUERTA LLC -117.161084  32.715738  \n",
       "50              SPRING BRANCH COMMUNITY HEALTH CENTER  -95.824396  29.785785  \n",
       "51              SPRING BRANCH COMMUNITY HEALTH CENTER  -95.369803  29.760427  \n",
       "52                           PAXTERRA SOLUTIONS, INC.  -84.198579  34.028926  "
      ]
     },
     "execution_count": 26,
     "metadata": {},
     "output_type": "execute_result"
    }
   ],
   "source": [
    "f = f[columns_to_keep]\n",
    "f.columns\n",
    "f.head(50)"
   ]
  },
  {
   "cell_type": "code",
   "execution_count": 27,
   "metadata": {},
   "outputs": [],
   "source": [
    "f['LON'] = f['LON'].apply(lambda lon: float(\"%.2f\"%lon))\n",
    "f['LAT'] = f['LAT'].apply(lambda lon: float(\"%.2f\"%lon))\n",
    "f['YEAR'] = f['YEAR'].apply(lambda year:'%g'%(Decimal(str(year))))\n",
    "f['PREV_WAGE'] = f['PREV_WAGE'].apply(lambda wage:'%g'%(Decimal(str(wage))))\n"
   ]
  },
  {
   "cell_type": "code",
   "execution_count": 28,
   "metadata": {},
   "outputs": [
    {
     "data": {
      "text/html": [
       "<div>\n",
       "<style scoped>\n",
       "    .dataframe tbody tr th:only-of-type {\n",
       "        vertical-align: middle;\n",
       "    }\n",
       "\n",
       "    .dataframe tbody tr th {\n",
       "        vertical-align: top;\n",
       "    }\n",
       "\n",
       "    .dataframe thead th {\n",
       "        text-align: right;\n",
       "    }\n",
       "</style>\n",
       "<table border=\"1\" class=\"dataframe\">\n",
       "  <thead>\n",
       "    <tr style=\"text-align: right;\">\n",
       "      <th></th>\n",
       "      <th>CASE_STATUS</th>\n",
       "      <th>YEAR</th>\n",
       "      <th>STATE</th>\n",
       "      <th>SOC_NAME</th>\n",
       "      <th>JOB_TITLE</th>\n",
       "      <th>FULL_T</th>\n",
       "      <th>PREV_WAGE</th>\n",
       "      <th>EMPLOYER</th>\n",
       "      <th>LON</th>\n",
       "      <th>LAT</th>\n",
       "    </tr>\n",
       "  </thead>\n",
       "  <tbody>\n",
       "    <tr>\n",
       "      <th>0</th>\n",
       "      <td>CERTIFIED-WITHDRAWN</td>\n",
       "      <td>2016</td>\n",
       "      <td>MICHIGAN</td>\n",
       "      <td>BIOCHEMISTS AND BIOPHYSICISTS</td>\n",
       "      <td>POSTDOCTORAL RESEARCH FELLOW</td>\n",
       "      <td>N</td>\n",
       "      <td>36067</td>\n",
       "      <td>UNIVERSITY OF MICHIGAN</td>\n",
       "      <td>-83.74</td>\n",
       "      <td>42.28</td>\n",
       "    </tr>\n",
       "    <tr>\n",
       "      <th>1</th>\n",
       "      <td>CERTIFIED-WITHDRAWN</td>\n",
       "      <td>2016</td>\n",
       "      <td>TEXAS</td>\n",
       "      <td>CHIEF EXECUTIVES</td>\n",
       "      <td>CHIEF OPERATING OFFICER</td>\n",
       "      <td>Y</td>\n",
       "      <td>242674</td>\n",
       "      <td>GOODMAN NETWORKS, INC.</td>\n",
       "      <td>-96.70</td>\n",
       "      <td>33.02</td>\n",
       "    </tr>\n",
       "    <tr>\n",
       "      <th>2</th>\n",
       "      <td>CERTIFIED-WITHDRAWN</td>\n",
       "      <td>2016</td>\n",
       "      <td>NEW JERSEY</td>\n",
       "      <td>CHIEF EXECUTIVES</td>\n",
       "      <td>CHIEF PROCESS OFFICER</td>\n",
       "      <td>Y</td>\n",
       "      <td>193066</td>\n",
       "      <td>PORTS AMERICA GROUP, INC.</td>\n",
       "      <td>-74.08</td>\n",
       "      <td>40.73</td>\n",
       "    </tr>\n",
       "  </tbody>\n",
       "</table>\n",
       "</div>"
      ],
      "text/plain": [
       "           CASE_STATUS  YEAR       STATE                       SOC_NAME  \\\n",
       "0  CERTIFIED-WITHDRAWN  2016    MICHIGAN  BIOCHEMISTS AND BIOPHYSICISTS   \n",
       "1  CERTIFIED-WITHDRAWN  2016       TEXAS               CHIEF EXECUTIVES   \n",
       "2  CERTIFIED-WITHDRAWN  2016  NEW JERSEY               CHIEF EXECUTIVES   \n",
       "\n",
       "                      JOB_TITLE FULL_T PREV_WAGE                   EMPLOYER  \\\n",
       "0  POSTDOCTORAL RESEARCH FELLOW      N     36067     UNIVERSITY OF MICHIGAN   \n",
       "1       CHIEF OPERATING OFFICER      Y    242674     GOODMAN NETWORKS, INC.   \n",
       "2         CHIEF PROCESS OFFICER      Y    193066  PORTS AMERICA GROUP, INC.   \n",
       "\n",
       "     LON    LAT  \n",
       "0 -83.74  42.28  \n",
       "1 -96.70  33.02  \n",
       "2 -74.08  40.73  "
      ]
     },
     "execution_count": 28,
     "metadata": {},
     "output_type": "execute_result"
    }
   ],
   "source": [
    "f.head(3)"
   ]
  },
  {
   "cell_type": "code",
   "execution_count": 29,
   "metadata": {},
   "outputs": [
    {
     "data": {
      "text/plain": [
       "array(['CERTIFIED-WITHDRAWN', 'WITHDRAWN', 'CERTIFIED', 'DENIED',\n",
       "       'REJECTED', 'INVALIDATED',\n",
       "       'PENDING QUALITY AND COMPLIANCE REVIEW - UNASSIGNED'], dtype=object)"
      ]
     },
     "execution_count": 29,
     "metadata": {},
     "output_type": "execute_result"
    }
   ],
   "source": [
    "f['CASE_STATUS'].unique()"
   ]
  },
  {
   "cell_type": "markdown",
   "metadata": {},
   "source": [
    "# Calculating the petitions distributions by status"
   ]
  },
  {
   "cell_type": "code",
   "execution_count": 30,
   "metadata": {},
   "outputs": [
    {
     "data": {
      "text/plain": [
       "[195721, 84752, 2512114, 85161, 1, 1, 15]"
      ]
     },
     "execution_count": 30,
     "metadata": {},
     "output_type": "execute_result"
    }
   ],
   "source": [
    "status_freq = [0]*7\n",
    "statuses =['CERTIFIED-WITHDRAWN', 'WITHDRAWN', 'CERTIFIED', 'DENIED',\n",
    "       'REJECTED', 'INVALIDATED',\n",
    "       'PENDING QUALITY AND COMPLIANCE REVIEW - UNASSIGNED']\n",
    "for i in range(0,7):\n",
    "    status_freq[i] = f[f.CASE_STATUS==statuses[i]]['CASE_STATUS'].count()\n",
    "status_freq"
   ]
  },
  {
   "cell_type": "code",
   "execution_count": 32,
   "metadata": {},
   "outputs": [],
   "source": [
    "from matplotlib.pyplot import pie,axis,show\n",
    "import matplotlib as mpl"
   ]
  },
  {
   "cell_type": "code",
   "execution_count": 40,
   "metadata": {},
   "outputs": [
    {
     "data": {
      "image/png": "[encoded data removed]",
      "text/plain": [
       "<Figure size 324x324 with 1 Axes>"
      ]
     },
     "metadata": {},
     "output_type": "display_data"
    }
   ],
   "source": [
    "plt.figure(figsize=(4.5,4.5))\n",
    "plt.title('PETITIONS BY CASE STATUS')\n",
    "axis('equal')\n",
    "pie(status_freq[:4],labels=statuses[:4],explode=[0,0,0,0.3],autopct=\"%0.2f\")\n",
    "show()"
   ]
  },
  {
   "cell_type": "markdown",
   "metadata": {},
   "source": [
    "# Calculating the petitions distributions by year"
   ]
  },
  {
   "cell_type": "code",
   "execution_count": 41,
   "metadata": {},
   "outputs": [
    {
     "data": {
      "text/plain": [
       "[333625, 394267, 422427, 498027, 600120, 629299]"
      ]
     },
     "execution_count": 41,
     "metadata": {},
     "output_type": "execute_result"
    }
   ],
   "source": [
    "years = [ '2011','2012','2013','2014','2015','2016']\n",
    "year_count  = [0]*6 \n",
    "for i in range(0,6):\n",
    "    year_count[i] = f[f.YEAR == years[i]]['YEAR'].count()\n",
    "year_count"
   ]
  },
  {
   "cell_type": "code",
   "execution_count": 42,
   "metadata": {},
   "outputs": [
    {
     "data": {
      "text/plain": [
       "<matplotlib.axes._subplots.AxesSubplot at 0x1a95b533f60>"
      ]
     },
     "execution_count": 42,
     "metadata": {},
     "output_type": "execute_result"
    },
    {
     "data": {
      "image/png": "[encoded data removed]",
      "text/plain": [
       "<Figure size 936x216 with 1 Axes>"
      ]
     },
     "metadata": {
      "needs_background": "light"
     },
     "output_type": "display_data"
    }
   ],
   "source": [
    "sn.set_context(\"notebook\",font_scale=1.0)\n",
    "plt.figure(figsize=(13,3))\n",
    "plt.title('petitions distributions by year')\n",
    "sn.countplot(f['YEAR'])"
   ]
  },
  {
   "cell_type": "code",
   "execution_count": 43,
   "metadata": {},
   "outputs": [
    {
     "data": {
      "text/plain": [
       "<matplotlib.axes._subplots.AxesSubplot at 0x1a90debb048>"
      ]
     },
     "execution_count": 43,
     "metadata": {},
     "output_type": "execute_result"
    },
    {
     "data": {
      "image/png": "[encoded data removed]",
      "text/plain": [
       "<Figure size 936x216 with 1 Axes>"
      ]
     },
     "metadata": {
      "needs_background": "light"
     },
     "output_type": "display_data"
    }
   ],
   "source": [
    "sn.set_context(\"notebook\",font_scale=1.0)\n",
    "plt.figure(figsize=(13,3))\n",
    "plt.title('petitions distributions by year')\n",
    "sn.countplot(f['YEAR'])"
   ]
  },
  {
   "cell_type": "code",
   "execution_count": 44,
   "metadata": {},
   "outputs": [
    {
     "data": {
      "text/plain": [
       "85161"
      ]
     },
     "execution_count": 44,
     "metadata": {},
     "output_type": "execute_result"
    }
   ],
   "source": [
    "denied = f[f.CASE_STATUS == 'DENIED']\n",
    "len(denied)"
   ]
  },
  {
   "cell_type": "code",
   "execution_count": 37,
   "metadata": {
    "collapsed": true
   },
   "outputs": [],
   "source": [
    "del denied['CASE_STATUS']"
   ]
  },
  {
   "cell_type": "code",
   "execution_count": 45,
   "metadata": {},
   "outputs": [
    {
     "data": {
      "text/html": [
       "<div>\n",
       "<style scoped>\n",
       "    .dataframe tbody tr th:only-of-type {\n",
       "        vertical-align: middle;\n",
       "    }\n",
       "\n",
       "    .dataframe tbody tr th {\n",
       "        vertical-align: top;\n",
       "    }\n",
       "\n",
       "    .dataframe thead th {\n",
       "        text-align: right;\n",
       "    }\n",
       "</style>\n",
       "<table border=\"1\" class=\"dataframe\">\n",
       "  <thead>\n",
       "    <tr style=\"text-align: right;\">\n",
       "      <th></th>\n",
       "      <th>index</th>\n",
       "      <th>CASE_STATUS</th>\n",
       "      <th>YEAR</th>\n",
       "      <th>STATE</th>\n",
       "      <th>SOC_NAME</th>\n",
       "      <th>JOB_TITLE</th>\n",
       "      <th>FULL_T</th>\n",
       "      <th>PREV_WAGE</th>\n",
       "      <th>EMPLOYER</th>\n",
       "      <th>LON</th>\n",
       "      <th>LAT</th>\n",
       "    </tr>\n",
       "  </thead>\n",
       "  <tbody>\n",
       "    <tr>\n",
       "      <th>0</th>\n",
       "      <td>39</td>\n",
       "      <td>DENIED</td>\n",
       "      <td>2016</td>\n",
       "      <td>WASHINGTON</td>\n",
       "      <td>CHIEF EXECUTIVES</td>\n",
       "      <td>CHIEF EXECUTIVE OFFICER</td>\n",
       "      <td>Y</td>\n",
       "      <td>187200</td>\n",
       "      <td>PARALLELS, INC.</td>\n",
       "      <td>-122.22</td>\n",
       "      <td>47.48</td>\n",
       "    </tr>\n",
       "    <tr>\n",
       "      <th>1</th>\n",
       "      <td>47</td>\n",
       "      <td>DENIED</td>\n",
       "      <td>2016</td>\n",
       "      <td>CALIFORNIA</td>\n",
       "      <td>CHIEF EXECUTIVES</td>\n",
       "      <td>PRESIDENT</td>\n",
       "      <td>Y</td>\n",
       "      <td>197683</td>\n",
       "      <td>RANCHO LA PUERTA LLC</td>\n",
       "      <td>-117.16</td>\n",
       "      <td>32.72</td>\n",
       "    </tr>\n",
       "    <tr>\n",
       "      <th>2</th>\n",
       "      <td>95</td>\n",
       "      <td>DENIED</td>\n",
       "      <td>2016</td>\n",
       "      <td>ILLINOIS</td>\n",
       "      <td>CHIEF EXECUTIVES</td>\n",
       "      <td>PRINCIPAL (ATTORNEY) AND CHAIRMAN OF THE EXECU...</td>\n",
       "      <td>Y</td>\n",
       "      <td>226699</td>\n",
       "      <td>BAKER &amp; MCKENZIE PC</td>\n",
       "      <td>-87.63</td>\n",
       "      <td>41.88</td>\n",
       "    </tr>\n",
       "  </tbody>\n",
       "</table>\n",
       "</div>"
      ],
      "text/plain": [
       "   index CASE_STATUS  YEAR       STATE          SOC_NAME  \\\n",
       "0     39      DENIED  2016  WASHINGTON  CHIEF EXECUTIVES   \n",
       "1     47      DENIED  2016  CALIFORNIA  CHIEF EXECUTIVES   \n",
       "2     95      DENIED  2016    ILLINOIS  CHIEF EXECUTIVES   \n",
       "\n",
       "                                           JOB_TITLE FULL_T PREV_WAGE  \\\n",
       "0                            CHIEF EXECUTIVE OFFICER      Y    187200   \n",
       "1                                          PRESIDENT      Y    197683   \n",
       "2  PRINCIPAL (ATTORNEY) AND CHAIRMAN OF THE EXECU...      Y    226699   \n",
       "\n",
       "               EMPLOYER     LON    LAT  \n",
       "0       PARALLELS, INC. -122.22  47.48  \n",
       "1  RANCHO LA PUERTA LLC -117.16  32.72  \n",
       "2   BAKER & MCKENZIE PC  -87.63  41.88  "
      ]
     },
     "execution_count": 45,
     "metadata": {},
     "output_type": "execute_result"
    }
   ],
   "source": [
    "denied = denied.reset_index()\n",
    "denied.head(3)"
   ]
  },
  {
   "cell_type": "code",
   "execution_count": 46,
   "metadata": {},
   "outputs": [],
   "source": [
    "denied_year_count = [0]* 6"
   ]
  },
  {
   "cell_type": "code",
   "execution_count": 47,
   "metadata": {},
   "outputs": [],
   "source": [
    "for i in range(0,6):\n",
    "    denied_year_count[i] = denied[denied.YEAR == years[i]]['YEAR'].count()"
   ]
  },
  {
   "cell_type": "code",
   "execution_count": 48,
   "metadata": {},
   "outputs": [
    {
     "data": {
      "text/plain": [
       "[25986, 18866, 10976, 10816, 10037, 8480]"
      ]
     },
     "execution_count": 48,
     "metadata": {},
     "output_type": "execute_result"
    }
   ],
   "source": [
    "denied_year_count"
   ]
  },
  {
   "cell_type": "code",
   "execution_count": 49,
   "metadata": {},
   "outputs": [
    {
     "data": {
      "text/plain": [
       "<matplotlib.axes._subplots.AxesSubplot at 0x1a95fdcd898>"
      ]
     },
     "execution_count": 49,
     "metadata": {},
     "output_type": "execute_result"
    },
    {
     "data": {
      "image/png": "[encoded data removed]",
      "text/plain": [
       "<Figure size 936x216 with 1 Axes>"
      ]
     },
     "metadata": {
      "needs_background": "light"
     },
     "output_type": "display_data"
    }
   ],
   "source": [
    "sn.set_context(\"notebook\",font_scale=1.0)\n",
    "plt.figure(figsize=(13,3))\n",
    "plt.title('DENIED PETITIONS DISTRIBUTION BY YEAR')\n",
    "sn.countplot(denied['YEAR'])"
   ]
  },
  {
   "cell_type": "code",
   "execution_count": 50,
   "metadata": {},
   "outputs": [
    {
     "data": {
      "text/html": [
       "<div>\n",
       "<style scoped>\n",
       "    .dataframe tbody tr th:only-of-type {\n",
       "        vertical-align: middle;\n",
       "    }\n",
       "\n",
       "    .dataframe tbody tr th {\n",
       "        vertical-align: top;\n",
       "    }\n",
       "\n",
       "    .dataframe thead th {\n",
       "        text-align: right;\n",
       "    }\n",
       "</style>\n",
       "<table border=\"1\" class=\"dataframe\">\n",
       "  <thead>\n",
       "    <tr style=\"text-align: right;\">\n",
       "      <th>year</th>\n",
       "      <th>2011</th>\n",
       "      <th>2012</th>\n",
       "      <th>2013</th>\n",
       "      <th>2014</th>\n",
       "      <th>2015</th>\n",
       "      <th>2016</th>\n",
       "    </tr>\n",
       "  </thead>\n",
       "  <tbody>\n",
       "    <tr>\n",
       "      <th>denied rate %</th>\n",
       "      <td>7.79</td>\n",
       "      <td>4.79</td>\n",
       "      <td>2.6</td>\n",
       "      <td>2.17</td>\n",
       "      <td>1.67</td>\n",
       "      <td>1.35</td>\n",
       "    </tr>\n",
       "  </tbody>\n",
       "</table>\n",
       "</div>"
      ],
      "text/plain": [
       "year           2011  2012  2013  2014  2015  2016\n",
       "denied rate %  7.79  4.79   2.6  2.17  1.67  1.35"
      ]
     },
     "execution_count": 50,
     "metadata": {},
     "output_type": "execute_result"
    }
   ],
   "source": [
    "denied_year_rate = [0]*6\n",
    "for i in range(6):\n",
    "    denied_year_rate[i] = float(\"%.2f\"%((denied_year_count[i]/year_count[i]*100)))\n",
    "ratio = pd.DataFrame()\n",
    "ratio['year'] = years\n",
    "ratio['denied rate %'] = denied_year_rate\n",
    "ratio = ratio.set_index(['year'])\n",
    "ratio.T"
   ]
  },
  {
   "cell_type": "code",
   "execution_count": 52,
   "metadata": {},
   "outputs": [
    {
     "data": {
      "image/png": "[encoded data removed]",
      "text/plain": [
       "<Figure size 936x216 with 1 Axes>"
      ]
     },
     "metadata": {
      "needs_background": "light"
     },
     "output_type": "display_data"
    }
   ],
   "source": [
    "ratio = ratio.reset_index()\n",
    "sn.set_context('notebook',font_scale=1.0)\n",
    "plt.figure(figsize=(13,3))\n",
    "plt.title('DENIED PETITIONS RATE BY YEAR')\n",
    "g = sn.barplot(x='year',y='denied rate %',data=ratio)\n"
   ]
  },
  {
   "cell_type": "markdown",
   "metadata": {},
   "source": [
    "# Calculating the number of petitions filed by the States"
   ]
  },
  {
   "cell_type": "code",
   "execution_count": 45,
   "metadata": {},
   "outputs": [
    {
     "data": {
      "text/plain": [
       "Index(['CASE_STATUS', 'YEAR', 'STATE', 'SOC_NAME', 'JOB_TITLE', 'FULL_T',\n",
       "       'PREV_WAGE', 'EMPLOYER', 'LON', 'LAT'],\n",
       "      dtype='object')"
      ]
     },
     "execution_count": 45,
     "metadata": {},
     "output_type": "execute_result"
    }
   ],
   "source": [
    "f.columns"
   ]
  },
  {
   "cell_type": "code",
   "execution_count": 52,
   "metadata": {},
   "outputs": [
    {
     "name": "stdout",
     "output_type": "stream",
     "text": [
      "['ALABAMA', 'ALASKA', 'ARIZONA', 'ARKANSAS', 'CALIFORNIA', 'COLORADO', 'CONNECTICUT', 'DELAWARE', 'DISTRICT OF COLUMBIA', 'FLORIDA', 'GEORGIA', 'HAWAII', 'IDAHO', 'ILLINOIS', 'INDIANA', 'IOWA', 'KANSAS', 'KENTUCKY', 'LOUISIANA', 'MAINE', 'MARIANA ISLANDS', 'MARYLAND', 'MASSACHUSETTS', 'MICHIGAN', 'MINNESOTA', 'MISSISSIPPI', 'MISSOURI', 'MONTANA', 'NEBRASKA', 'NEVADA', 'NEW HAMPSHIRE', 'NEW JERSEY', 'NEW MEXICO', 'NEW YORK', 'NORTH CAROLINA', 'NORTH DAKOTA', 'OHIO', 'OKLAHOMA', 'OREGON', 'PENNSYLVANIA', 'PUERTO RICO', 'RHODE ISLAND', 'SOUTH CAROLINA', 'SOUTH DAKOTA', 'TENNESSEE', 'TEXAS', 'UTAH', 'VERMONT', 'VIRGINIA', 'WASHINGTON', 'WEST VIRGINIA', 'WISCONSIN', 'WYOMING']\n"
     ]
    }
   ],
   "source": [
    "l = list(f['STATE'].unique())\n",
    "l.sort()\n",
    "print(l)"
   ]
  },
  {
   "cell_type": "code",
   "execution_count": 54,
   "metadata": {},
   "outputs": [
    {
     "data": {
      "text/plain": [
       "53"
      ]
     },
     "execution_count": 54,
     "metadata": {},
     "output_type": "execute_result"
    }
   ],
   "source": [
    "Us_states= ['ALABAMA', 'ALASKA', 'ARIZONA', 'ARKANSAS', 'CALIFORNIA', \n",
    "              'COLORADO', 'CONNECTICUT', 'DELAWARE', 'DISTRICT OF COLUMBIA', \n",
    "              'FLORIDA', 'GEORGIA', 'HAWAII', 'IDAHO', 'ILLINOIS', 'INDIANA',\n",
    "              'IOWA', 'KANSAS', 'KENTUCKY', 'LOUISIANA', 'MAINE', 'MARIANA ISLANDS', \n",
    "              'MARYLAND', 'MASSACHUSETTS', 'MICHIGAN', 'MINNESOTA', 'MISSISSIPPI', 'MISSOURI', \n",
    "              'MONTANA', 'NEBRASKA', 'NEVADA', 'NEW HAMPSHIRE', 'NEW JERSEY', \n",
    "              'NEW MEXICO', 'NEW YORK', 'NORTH CAROLINA', 'NORTH DAKOTA', \n",
    "              'OHIO', 'OKLAHOMA', 'OREGON', 'PENNSYLVANIA', 'PUERTO RICO',\n",
    "              'RHODE ISLAND', 'SOUTH CAROLINA', 'SOUTH DAKOTA', 'TENNESSEE', \n",
    "              'TEXAS', 'UTAH', 'VERMONT', 'VIRGINIA', 'WASHINGTON', \n",
    "              'WEST VIRGINIA', 'WISCONSIN', 'WYOMING']\n",
    "len(Us_states)"
   ]
  },
  {
   "cell_type": "code",
   "execution_count": 57,
   "metadata": {},
   "outputs": [
    {
     "name": "stdout",
     "output_type": "stream",
     "text": [
      "2877765\n"
     ]
    }
   ],
   "source": [
    "petitions_by_state = [0]*53\n",
    "for i in range(53):\n",
    "    petitions_by_state[i] = f[f.STATE==Us_states[i]]['STATE'].count()\n",
    "pet_state = pd.DataFrame()\n",
    "pet_state['STATE'] = Us_states\n",
    "pet_state['FILED PETITIONS'] = petitions_by_state\n",
    "print(sum(petitions_by_state))"
   ]
  },
  {
   "cell_type": "code",
   "execution_count": 60,
   "metadata": {},
   "outputs": [
    {
     "name": "stderr",
     "output_type": "stream",
     "text": [
      "C:\\ProgramData\\Anaconda3\\lib\\site-packages\\seaborn\\categorical.py:1460: FutureWarning: remove_na is deprecated and is a private function. Do not use.\n",
      "  stat_data = remove_na(group_data)\n"
     ]
    },
    {
     "data": {
      "image/png": "[encoded data removed]",
      "text/plain": [
       "<matplotlib.figure.Figure at 0x1fd9b1c4240>"
      ]
     },
     "metadata": {},
     "output_type": "display_data"
    }
   ],
   "source": [
    "sn.set_context(\"notebook\",font_scale=1.0)\n",
    "plt.figure(figsize=(13,5))\n",
    "plt.title('FILED PETITIONS BY STATE')\n",
    "v = sn.barplot(x='STATE',y='FILED PETITIONS',data=pet_state)\n",
    "rotg = v.set_xticklabels(v.get_xticklabels(),rotation=90)"
   ]
  },
  {
   "cell_type": "markdown",
   "metadata": {},
   "source": [
    "# Number of petitions denied by the state"
   ]
  },
  {
   "cell_type": "code",
   "execution_count": 62,
   "metadata": {},
   "outputs": [
    {
     "name": "stdout",
     "output_type": "stream",
     "text": [
      "85161\n"
     ]
    }
   ],
   "source": [
    "denied_by_state = [0]*53\n",
    "for i in range(53):\n",
    "    denied_by_state[i] = denied[denied.STATE == Us_states[i]]['STATE'].count()\n",
    "den_state = pd.DataFrame()\n",
    "den_state['STATE'] = Us_states\n",
    "den_state['DENIED PETITIONS'] = denied_by_state\n",
    "print(sum(denied_by_state))"
   ]
  },
  {
   "cell_type": "code",
   "execution_count": 66,
   "metadata": {},
   "outputs": [
    {
     "name": "stderr",
     "output_type": "stream",
     "text": [
      "C:\\ProgramData\\Anaconda3\\lib\\site-packages\\seaborn\\categorical.py:1460: FutureWarning: remove_na is deprecated and is a private function. Do not use.\n",
      "  stat_data = remove_na(group_data)\n"
     ]
    },
    {
     "data": {
      "image/png": "[encoded data removed]",
      "text/plain": [
       "<matplotlib.figure.Figure at 0x1fd92bcb898>"
      ]
     },
     "metadata": {},
     "output_type": "display_data"
    }
   ],
   "source": [
    "sn.set_context(\"notebook\",font_scale=1.0)\n",
    "plt.figure(figsize=(13,5))\n",
    "plt.title('DENIED PETITIONS BY STATE')\n",
    "v = sn.barplot(x='STATE',y='DENIED PETITIONS',data=den_state)\n",
    "rotg = v.set_xticklabels(v.get_xticklabels(),rotation=90)"
   ]
  },
  {
   "cell_type": "code",
   "execution_count": 68,
   "metadata": {
    "collapsed": true
   },
   "outputs": [],
   "source": [
    "denied_state_rate = [0]*53\n",
    "for i in range(53):\n",
    "    denied_state_rate[i] = float(\"%.2f\"%((denied_by_state[i]/petitions_by_state[i])*100))\n",
    "\n",
    "ratios = pd.DataFrame()\n",
    "ratios['STATE'] = Us_states\n",
    "ratios['DENIED PETITIONS %'] = denied_state_rate\n"
   ]
  },
  {
   "cell_type": "code",
   "execution_count": 69,
   "metadata": {},
   "outputs": [
    {
     "name": "stderr",
     "output_type": "stream",
     "text": [
      "C:\\ProgramData\\Anaconda3\\lib\\site-packages\\seaborn\\categorical.py:1460: FutureWarning: remove_na is deprecated and is a private function. Do not use.\n",
      "  stat_data = remove_na(group_data)\n"
     ]
    },
    {
     "data": {
      "image/png": "[encoded data removed]",
      "text/plain": [
       "<matplotlib.figure.Figure at 0x1fd92ca8470>"
      ]
     },
     "metadata": {},
     "output_type": "display_data"
    }
   ],
   "source": [
    "sn.set_context(\"notebook\",font_scale=1.0)\n",
    "plt.figure(figsize=(13,5))\n",
    "plt.title('DENIED PETITIONS RATE IN % BY STATE')\n",
    "v = sn.barplot(x='STATE',y='DENIED PETITIONS %',data=ratios)\n",
    "rotg = v.set_xticklabels(v.get_xticklabels(),rotation=90)"
   ]
  },
  {
   "cell_type": "code",
   "execution_count": 71,
   "metadata": {},
   "outputs": [
    {
     "data": {
      "text/html": [
       "<div>\n",
       "<style scoped>\n",
       "    .dataframe tbody tr th:only-of-type {\n",
       "        vertical-align: middle;\n",
       "    }\n",
       "\n",
       "    .dataframe tbody tr th {\n",
       "        vertical-align: top;\n",
       "    }\n",
       "\n",
       "    .dataframe thead th {\n",
       "        text-align: right;\n",
       "    }\n",
       "</style>\n",
       "<table border=\"1\" class=\"dataframe\">\n",
       "  <thead>\n",
       "    <tr style=\"text-align: right;\">\n",
       "      <th></th>\n",
       "      <th>STATE</th>\n",
       "      <th>FILED PETITIONS</th>\n",
       "      <th>DENIED PETITIONS</th>\n",
       "      <th>DENIED PETITIONS %</th>\n",
       "    </tr>\n",
       "  </thead>\n",
       "  <tbody>\n",
       "    <tr>\n",
       "      <th>20</th>\n",
       "      <td>MARIANA ISLANDS</td>\n",
       "      <td>3069</td>\n",
       "      <td>576</td>\n",
       "      <td>18.77</td>\n",
       "    </tr>\n",
       "    <tr>\n",
       "      <th>40</th>\n",
       "      <td>PUERTO RICO</td>\n",
       "      <td>931</td>\n",
       "      <td>141</td>\n",
       "      <td>15.15</td>\n",
       "    </tr>\n",
       "    <tr>\n",
       "      <th>52</th>\n",
       "      <td>WYOMING</td>\n",
       "      <td>693</td>\n",
       "      <td>76</td>\n",
       "      <td>10.97</td>\n",
       "    </tr>\n",
       "    <tr>\n",
       "      <th>11</th>\n",
       "      <td>HAWAII</td>\n",
       "      <td>3157</td>\n",
       "      <td>309</td>\n",
       "      <td>9.79</td>\n",
       "    </tr>\n",
       "    <tr>\n",
       "      <th>1</th>\n",
       "      <td>ALASKA</td>\n",
       "      <td>1116</td>\n",
       "      <td>105</td>\n",
       "      <td>9.41</td>\n",
       "    </tr>\n",
       "    <tr>\n",
       "      <th>29</th>\n",
       "      <td>NEVADA</td>\n",
       "      <td>7004</td>\n",
       "      <td>565</td>\n",
       "      <td>8.07</td>\n",
       "    </tr>\n",
       "    <tr>\n",
       "      <th>27</th>\n",
       "      <td>MONTANA</td>\n",
       "      <td>644</td>\n",
       "      <td>50</td>\n",
       "      <td>7.76</td>\n",
       "    </tr>\n",
       "    <tr>\n",
       "      <th>25</th>\n",
       "      <td>MISSISSIPPI</td>\n",
       "      <td>2686</td>\n",
       "      <td>146</td>\n",
       "      <td>5.44</td>\n",
       "    </tr>\n",
       "    <tr>\n",
       "      <th>8</th>\n",
       "      <td>DISTRICT OF COLUMBIA</td>\n",
       "      <td>22408</td>\n",
       "      <td>1152</td>\n",
       "      <td>5.14</td>\n",
       "    </tr>\n",
       "    <tr>\n",
       "      <th>32</th>\n",
       "      <td>NEW MEXICO</td>\n",
       "      <td>4655</td>\n",
       "      <td>236</td>\n",
       "      <td>5.07</td>\n",
       "    </tr>\n",
       "    <tr>\n",
       "      <th>9</th>\n",
       "      <td>FLORIDA</td>\n",
       "      <td>100384</td>\n",
       "      <td>5064</td>\n",
       "      <td>5.04</td>\n",
       "    </tr>\n",
       "    <tr>\n",
       "      <th>18</th>\n",
       "      <td>LOUISIANA</td>\n",
       "      <td>10043</td>\n",
       "      <td>498</td>\n",
       "      <td>4.96</td>\n",
       "    </tr>\n",
       "    <tr>\n",
       "      <th>0</th>\n",
       "      <td>ALABAMA</td>\n",
       "      <td>8644</td>\n",
       "      <td>387</td>\n",
       "      <td>4.48</td>\n",
       "    </tr>\n",
       "    <tr>\n",
       "      <th>35</th>\n",
       "      <td>NORTH DAKOTA</td>\n",
       "      <td>2510</td>\n",
       "      <td>112</td>\n",
       "      <td>4.46</td>\n",
       "    </tr>\n",
       "    <tr>\n",
       "      <th>33</th>\n",
       "      <td>NEW YORK</td>\n",
       "      <td>282429</td>\n",
       "      <td>11858</td>\n",
       "      <td>4.20</td>\n",
       "    </tr>\n",
       "    <tr>\n",
       "      <th>47</th>\n",
       "      <td>VERMONT</td>\n",
       "      <td>1248</td>\n",
       "      <td>52</td>\n",
       "      <td>4.17</td>\n",
       "    </tr>\n",
       "    <tr>\n",
       "      <th>46</th>\n",
       "      <td>UTAH</td>\n",
       "      <td>12162</td>\n",
       "      <td>466</td>\n",
       "      <td>3.83</td>\n",
       "    </tr>\n",
       "    <tr>\n",
       "      <th>37</th>\n",
       "      <td>OKLAHOMA</td>\n",
       "      <td>9437</td>\n",
       "      <td>357</td>\n",
       "      <td>3.78</td>\n",
       "    </tr>\n",
       "    <tr>\n",
       "      <th>12</th>\n",
       "      <td>IDAHO</td>\n",
       "      <td>3777</td>\n",
       "      <td>142</td>\n",
       "      <td>3.76</td>\n",
       "    </tr>\n",
       "    <tr>\n",
       "      <th>42</th>\n",
       "      <td>SOUTH CAROLINA</td>\n",
       "      <td>11246</td>\n",
       "      <td>423</td>\n",
       "      <td>3.76</td>\n",
       "    </tr>\n",
       "    <tr>\n",
       "      <th>50</th>\n",
       "      <td>WEST VIRGINIA</td>\n",
       "      <td>2121</td>\n",
       "      <td>76</td>\n",
       "      <td>3.58</td>\n",
       "    </tr>\n",
       "    <tr>\n",
       "      <th>21</th>\n",
       "      <td>MARYLAND</td>\n",
       "      <td>53145</td>\n",
       "      <td>1871</td>\n",
       "      <td>3.52</td>\n",
       "    </tr>\n",
       "    <tr>\n",
       "      <th>43</th>\n",
       "      <td>SOUTH DAKOTA</td>\n",
       "      <td>1582</td>\n",
       "      <td>55</td>\n",
       "      <td>3.48</td>\n",
       "    </tr>\n",
       "    <tr>\n",
       "      <th>4</th>\n",
       "      <td>CALIFORNIA</td>\n",
       "      <td>548539</td>\n",
       "      <td>16901</td>\n",
       "      <td>3.08</td>\n",
       "    </tr>\n",
       "    <tr>\n",
       "      <th>5</th>\n",
       "      <td>COLORADO</td>\n",
       "      <td>30231</td>\n",
       "      <td>930</td>\n",
       "      <td>3.08</td>\n",
       "    </tr>\n",
       "    <tr>\n",
       "      <th>48</th>\n",
       "      <td>VIRGINIA</td>\n",
       "      <td>86948</td>\n",
       "      <td>2622</td>\n",
       "      <td>3.02</td>\n",
       "    </tr>\n",
       "    <tr>\n",
       "      <th>22</th>\n",
       "      <td>MASSACHUSETTS</td>\n",
       "      <td>112659</td>\n",
       "      <td>3369</td>\n",
       "      <td>2.99</td>\n",
       "    </tr>\n",
       "    <tr>\n",
       "      <th>45</th>\n",
       "      <td>TEXAS</td>\n",
       "      <td>286704</td>\n",
       "      <td>8070</td>\n",
       "      <td>2.81</td>\n",
       "    </tr>\n",
       "    <tr>\n",
       "      <th>44</th>\n",
       "      <td>TENNESSEE</td>\n",
       "      <td>25906</td>\n",
       "      <td>722</td>\n",
       "      <td>2.79</td>\n",
       "    </tr>\n",
       "    <tr>\n",
       "      <th>17</th>\n",
       "      <td>KENTUCKY</td>\n",
       "      <td>10968</td>\n",
       "      <td>300</td>\n",
       "      <td>2.74</td>\n",
       "    </tr>\n",
       "    <tr>\n",
       "      <th>16</th>\n",
       "      <td>KANSAS</td>\n",
       "      <td>12331</td>\n",
       "      <td>336</td>\n",
       "      <td>2.72</td>\n",
       "    </tr>\n",
       "    <tr>\n",
       "      <th>28</th>\n",
       "      <td>NEBRASKA</td>\n",
       "      <td>8600</td>\n",
       "      <td>233</td>\n",
       "      <td>2.71</td>\n",
       "    </tr>\n",
       "    <tr>\n",
       "      <th>2</th>\n",
       "      <td>ARIZONA</td>\n",
       "      <td>40184</td>\n",
       "      <td>1031</td>\n",
       "      <td>2.57</td>\n",
       "    </tr>\n",
       "    <tr>\n",
       "      <th>10</th>\n",
       "      <td>GEORGIA</td>\n",
       "      <td>99679</td>\n",
       "      <td>2533</td>\n",
       "      <td>2.54</td>\n",
       "    </tr>\n",
       "    <tr>\n",
       "      <th>23</th>\n",
       "      <td>MICHIGAN</td>\n",
       "      <td>77868</td>\n",
       "      <td>1947</td>\n",
       "      <td>2.50</td>\n",
       "    </tr>\n",
       "    <tr>\n",
       "      <th>14</th>\n",
       "      <td>INDIANA</td>\n",
       "      <td>28230</td>\n",
       "      <td>700</td>\n",
       "      <td>2.48</td>\n",
       "    </tr>\n",
       "    <tr>\n",
       "      <th>19</th>\n",
       "      <td>MAINE</td>\n",
       "      <td>3132</td>\n",
       "      <td>76</td>\n",
       "      <td>2.43</td>\n",
       "    </tr>\n",
       "    <tr>\n",
       "      <th>38</th>\n",
       "      <td>OREGON</td>\n",
       "      <td>22759</td>\n",
       "      <td>550</td>\n",
       "      <td>2.42</td>\n",
       "    </tr>\n",
       "    <tr>\n",
       "      <th>13</th>\n",
       "      <td>ILLINOIS</td>\n",
       "      <td>154843</td>\n",
       "      <td>3612</td>\n",
       "      <td>2.33</td>\n",
       "    </tr>\n",
       "    <tr>\n",
       "      <th>39</th>\n",
       "      <td>PENNSYLVANIA</td>\n",
       "      <td>103729</td>\n",
       "      <td>2390</td>\n",
       "      <td>2.30</td>\n",
       "    </tr>\n",
       "    <tr>\n",
       "      <th>6</th>\n",
       "      <td>CONNECTICUT</td>\n",
       "      <td>48174</td>\n",
       "      <td>1103</td>\n",
       "      <td>2.29</td>\n",
       "    </tr>\n",
       "    <tr>\n",
       "      <th>36</th>\n",
       "      <td>OHIO</td>\n",
       "      <td>71765</td>\n",
       "      <td>1580</td>\n",
       "      <td>2.20</td>\n",
       "    </tr>\n",
       "    <tr>\n",
       "      <th>31</th>\n",
       "      <td>NEW JERSEY</td>\n",
       "      <td>206876</td>\n",
       "      <td>4488</td>\n",
       "      <td>2.17</td>\n",
       "    </tr>\n",
       "    <tr>\n",
       "      <th>15</th>\n",
       "      <td>IOWA</td>\n",
       "      <td>15143</td>\n",
       "      <td>328</td>\n",
       "      <td>2.17</td>\n",
       "    </tr>\n",
       "    <tr>\n",
       "      <th>24</th>\n",
       "      <td>MINNESOTA</td>\n",
       "      <td>45864</td>\n",
       "      <td>957</td>\n",
       "      <td>2.09</td>\n",
       "    </tr>\n",
       "    <tr>\n",
       "      <th>41</th>\n",
       "      <td>RHODE ISLAND</td>\n",
       "      <td>11316</td>\n",
       "      <td>231</td>\n",
       "      <td>2.04</td>\n",
       "    </tr>\n",
       "    <tr>\n",
       "      <th>34</th>\n",
       "      <td>NORTH CAROLINA</td>\n",
       "      <td>75701</td>\n",
       "      <td>1546</td>\n",
       "      <td>2.04</td>\n",
       "    </tr>\n",
       "    <tr>\n",
       "      <th>26</th>\n",
       "      <td>MISSOURI</td>\n",
       "      <td>32737</td>\n",
       "      <td>669</td>\n",
       "      <td>2.04</td>\n",
       "    </tr>\n",
       "    <tr>\n",
       "      <th>51</th>\n",
       "      <td>WISCONSIN</td>\n",
       "      <td>30485</td>\n",
       "      <td>590</td>\n",
       "      <td>1.94</td>\n",
       "    </tr>\n",
       "    <tr>\n",
       "      <th>7</th>\n",
       "      <td>DELAWARE</td>\n",
       "      <td>17705</td>\n",
       "      <td>342</td>\n",
       "      <td>1.93</td>\n",
       "    </tr>\n",
       "    <tr>\n",
       "      <th>3</th>\n",
       "      <td>ARKANSAS</td>\n",
       "      <td>13775</td>\n",
       "      <td>264</td>\n",
       "      <td>1.92</td>\n",
       "    </tr>\n",
       "    <tr>\n",
       "      <th>30</th>\n",
       "      <td>NEW HAMPSHIRE</td>\n",
       "      <td>9069</td>\n",
       "      <td>170</td>\n",
       "      <td>1.87</td>\n",
       "    </tr>\n",
       "    <tr>\n",
       "      <th>49</th>\n",
       "      <td>WASHINGTON</td>\n",
       "      <td>100754</td>\n",
       "      <td>1854</td>\n",
       "      <td>1.84</td>\n",
       "    </tr>\n",
       "  </tbody>\n",
       "</table>\n",
       "</div>"
      ],
      "text/plain": [
       "                   STATE  FILED PETITIONS  DENIED PETITIONS  \\\n",
       "20       MARIANA ISLANDS             3069               576   \n",
       "40           PUERTO RICO              931               141   \n",
       "52               WYOMING              693                76   \n",
       "11                HAWAII             3157               309   \n",
       "1                 ALASKA             1116               105   \n",
       "29                NEVADA             7004               565   \n",
       "27               MONTANA              644                50   \n",
       "25           MISSISSIPPI             2686               146   \n",
       "8   DISTRICT OF COLUMBIA            22408              1152   \n",
       "32            NEW MEXICO             4655               236   \n",
       "9                FLORIDA           100384              5064   \n",
       "18             LOUISIANA            10043               498   \n",
       "0                ALABAMA             8644               387   \n",
       "35          NORTH DAKOTA             2510               112   \n",
       "33              NEW YORK           282429             11858   \n",
       "47               VERMONT             1248                52   \n",
       "46                  UTAH            12162               466   \n",
       "37              OKLAHOMA             9437               357   \n",
       "12                 IDAHO             3777               142   \n",
       "42        SOUTH CAROLINA            11246               423   \n",
       "50         WEST VIRGINIA             2121                76   \n",
       "21              MARYLAND            53145              1871   \n",
       "43          SOUTH DAKOTA             1582                55   \n",
       "4             CALIFORNIA           548539             16901   \n",
       "5               COLORADO            30231               930   \n",
       "48              VIRGINIA            86948              2622   \n",
       "22         MASSACHUSETTS           112659              3369   \n",
       "45                 TEXAS           286704              8070   \n",
       "44             TENNESSEE            25906               722   \n",
       "17              KENTUCKY            10968               300   \n",
       "16                KANSAS            12331               336   \n",
       "28              NEBRASKA             8600               233   \n",
       "2                ARIZONA            40184              1031   \n",
       "10               GEORGIA            99679              2533   \n",
       "23              MICHIGAN            77868              1947   \n",
       "14               INDIANA            28230               700   \n",
       "19                 MAINE             3132                76   \n",
       "38                OREGON            22759               550   \n",
       "13              ILLINOIS           154843              3612   \n",
       "39          PENNSYLVANIA           103729              2390   \n",
       "6            CONNECTICUT            48174              1103   \n",
       "36                  OHIO            71765              1580   \n",
       "31            NEW JERSEY           206876              4488   \n",
       "15                  IOWA            15143               328   \n",
       "24             MINNESOTA            45864               957   \n",
       "41          RHODE ISLAND            11316               231   \n",
       "34        NORTH CAROLINA            75701              1546   \n",
       "26              MISSOURI            32737               669   \n",
       "51             WISCONSIN            30485               590   \n",
       "7               DELAWARE            17705               342   \n",
       "3               ARKANSAS            13775               264   \n",
       "30         NEW HAMPSHIRE             9069               170   \n",
       "49            WASHINGTON           100754              1854   \n",
       "\n",
       "    DENIED PETITIONS %  \n",
       "20               18.77  \n",
       "40               15.15  \n",
       "52               10.97  \n",
       "11                9.79  \n",
       "1                 9.41  \n",
       "29                8.07  \n",
       "27                7.76  \n",
       "25                5.44  \n",
       "8                 5.14  \n",
       "32                5.07  \n",
       "9                 5.04  \n",
       "18                4.96  \n",
       "0                 4.48  \n",
       "35                4.46  \n",
       "33                4.20  \n",
       "47                4.17  \n",
       "46                3.83  \n",
       "37                3.78  \n",
       "12                3.76  \n",
       "42                3.76  \n",
       "50                3.58  \n",
       "21                3.52  \n",
       "43                3.48  \n",
       "4                 3.08  \n",
       "5                 3.08  \n",
       "48                3.02  \n",
       "22                2.99  \n",
       "45                2.81  \n",
       "44                2.79  \n",
       "17                2.74  \n",
       "16                2.72  \n",
       "28                2.71  \n",
       "2                 2.57  \n",
       "10                2.54  \n",
       "23                2.50  \n",
       "14                2.48  \n",
       "19                2.43  \n",
       "38                2.42  \n",
       "13                2.33  \n",
       "39                2.30  \n",
       "6                 2.29  \n",
       "36                2.20  \n",
       "31                2.17  \n",
       "15                2.17  \n",
       "24                2.09  \n",
       "41                2.04  \n",
       "34                2.04  \n",
       "26                2.04  \n",
       "51                1.94  \n",
       "7                 1.93  \n",
       "3                 1.92  \n",
       "30                1.87  \n",
       "49                1.84  "
      ]
     },
     "execution_count": 71,
     "metadata": {},
     "output_type": "execute_result"
    }
   ],
   "source": [
    "pet_state['DENIED PETITIONS'] = denied_by_state\n",
    "pet_state['DENIED PETITIONS %'] = denied_state_rate\n",
    "pet_state = pet_state.sort_values(by='DENIED PETITIONS %',ascending=False)\n",
    "pet_state"
   ]
  },
  {
   "cell_type": "code",
   "execution_count": 72,
   "metadata": {},
   "outputs": [
    {
     "name": "stdout",
     "output_type": "stream",
     "text": [
      "154843 petitions were filed in Illinois and 3612 of them were denied.\n"
     ]
    }
   ],
   "source": [
    "illinois = f[f.STATE == 'ILLINOIS'] #SUBSET OF ILLINOIS PETITIONS\n",
    "del illinois['STATE']\n",
    "del illinois['LON']\n",
    "del illinois['LAT']\n",
    "illinois = illinois.reset_index()\n",
    "lnh = len(illinois)\n",
    "print(lnh,'petitions were filed in Illinois and 3612 of them were denied.')"
   ]
  },
  {
   "cell_type": "code",
   "execution_count": 74,
   "metadata": {},
   "outputs": [
    {
     "name": "stdout",
     "output_type": "stream",
     "text": [
      "2 petitions for the job of \"CHIEF PROCESS OFFICER\" in the state of illinois were certified\n"
     ]
    }
   ],
   "source": [
    "def get_data(rec):\n",
    "    if (rec.find('CHIEF PROCESS OFFICER') < 0) : \n",
    "        return 'NO_DATA'\n",
    "    return rec\n",
    "illinois.loc[:,'JOB_TITLE'] = illinois.loc[:,'JOB_TITLE'].apply(lambda rec:get_data(rec))\n",
    "illinois_data = illinois[(illinois.JOB_TITLE != 'NO_DATA') & ( illinois.CASE_STATUS != 'DENIED')]\n",
    "print(len(illinois_data),'petitions for the job of \"CHIEF PROCESS OFFICER\" in the state of','illinois were certified')"
   ]
  },
  {
   "cell_type": "code",
   "execution_count": 75,
   "metadata": {},
   "outputs": [
    {
     "data": {
      "text/html": [
       "<div>\n",
       "<style scoped>\n",
       "    .dataframe tbody tr th:only-of-type {\n",
       "        vertical-align: middle;\n",
       "    }\n",
       "\n",
       "    .dataframe tbody tr th {\n",
       "        vertical-align: top;\n",
       "    }\n",
       "\n",
       "    .dataframe thead th {\n",
       "        text-align: right;\n",
       "    }\n",
       "</style>\n",
       "<table border=\"1\" class=\"dataframe\">\n",
       "  <thead>\n",
       "    <tr style=\"text-align: right;\">\n",
       "      <th></th>\n",
       "      <th>index</th>\n",
       "      <th>CASE_STATUS</th>\n",
       "      <th>YEAR</th>\n",
       "      <th>SOC_NAME</th>\n",
       "      <th>JOB_TITLE</th>\n",
       "      <th>FULL_T</th>\n",
       "      <th>PREV_WAGE</th>\n",
       "      <th>EMPLOYER</th>\n",
       "    </tr>\n",
       "  </thead>\n",
       "  <tbody>\n",
       "    <tr>\n",
       "      <th>67488</th>\n",
       "      <td>1295151</td>\n",
       "      <td>CERTIFIED</td>\n",
       "      <td>2014</td>\n",
       "      <td>Management Analysts</td>\n",
       "      <td>CHIEF PROCESS OFFICER</td>\n",
       "      <td>Y</td>\n",
       "      <td>67080</td>\n",
       "      <td>LITTLER MENDELSON P.C.</td>\n",
       "    </tr>\n",
       "    <tr>\n",
       "      <th>68437</th>\n",
       "      <td>1311111</td>\n",
       "      <td>CERTIFIED</td>\n",
       "      <td>2014</td>\n",
       "      <td>Management Analysts</td>\n",
       "      <td>CHIEF PROCESS OFFICER</td>\n",
       "      <td>Y</td>\n",
       "      <td>67080</td>\n",
       "      <td>LITTLER MENDELSON P.C.</td>\n",
       "    </tr>\n",
       "  </tbody>\n",
       "</table>\n",
       "</div>"
      ],
      "text/plain": [
       "         index CASE_STATUS  YEAR             SOC_NAME              JOB_TITLE  \\\n",
       "67488  1295151   CERTIFIED  2014  Management Analysts  CHIEF PROCESS OFFICER   \n",
       "68437  1311111   CERTIFIED  2014  Management Analysts  CHIEF PROCESS OFFICER   \n",
       "\n",
       "      FULL_T PREV_WAGE                EMPLOYER  \n",
       "67488      Y     67080  LITTLER MENDELSON P.C.  \n",
       "68437      Y     67080  LITTLER MENDELSON P.C.  "
      ]
     },
     "execution_count": 75,
     "metadata": {},
     "output_type": "execute_result"
    }
   ],
   "source": [
    "illinois_data"
   ]
  },
  {
   "cell_type": "markdown",
   "metadata": {},
   "source": [
    "# Top 25 Job Titles"
   ]
  },
  {
   "cell_type": "code",
   "execution_count": 77,
   "metadata": {},
   "outputs": [
    {
     "data": {
      "text/plain": [
       "PROGRAMMER ANALYST             243357\n",
       "SOFTWARE ENGINEER              118897\n",
       "COMPUTER PROGRAMMER             68696\n",
       "SYSTEMS ANALYST                 60754\n",
       "SOFTWARE DEVELOPER              41875\n",
       "BUSINESS ANALYST                38781\n",
       "COMPUTER SYSTEMS ANALYST        34036\n",
       "TECHNOLOGY LEAD - US            28307\n",
       "SENIOR SOFTWARE ENGINEER        26617\n",
       "TECHNOLOGY ANALYST - US         26010\n",
       "ASSISTANT PROFESSOR             24436\n",
       "SENIOR CONSULTANT               24120\n",
       "CONSULTANT                      22643\n",
       "PROJECT MANAGER                 19015\n",
       "DATABASE ADMINISTRATOR          16108\n",
       "PHYSICAL THERAPIST              14203\n",
       "RESEARCH ASSOCIATE              13409\n",
       "COMPUTER PROGRAMMER ANALYST     13116\n",
       "ACCOUNTANT                      12934\n",
       "DEVELOPER                       12737\n",
       "ASSOCIATE                       12447\n",
       "ANALYST                         11644\n",
       "LEAD ENGINEER                   11012\n",
       "SENIOR SOFTWARE DEVELOPER       10031\n",
       "SYSTEMS ENGINEER - US           10020\n",
       "Name: JOB_TITLE, dtype: int64"
      ]
     },
     "execution_count": 77,
     "metadata": {},
     "output_type": "execute_result"
    }
   ],
   "source": [
    "f.JOB_TITLE.value_counts().sort_values(ascending=False).head(25)"
   ]
  },
  {
   "cell_type": "code",
   "execution_count": 13,
   "metadata": {},
   "outputs": [
    {
     "data": {
      "text/plain": [
       "<matplotlib.axes._subplots.AxesSubplot at 0x23114505668>"
      ]
     },
     "execution_count": 13,
     "metadata": {},
     "output_type": "execute_result"
    },
    {
     "data": {
      "image/png": "[encoded data removed]",
      "text/plain": [
       "<Figure size 432x288 with 1 Axes>"
      ]
     },
     "metadata": {},
     "output_type": "display_data"
    }
   ],
   "source": [
    "f.JOB_TITLE.value_counts().sort_values(ascending=False).head(10).plot(kind='bar')"
   ]
  },
  {
   "cell_type": "code",
   "execution_count": null,
   "metadata": {
    "collapsed": true
   },
   "outputs": [],
   "source": [
    "s"
   ]
  }
 ],
 "metadata": {
  "kernelspec": {
   "display_name": "Python 3",
   "language": "python",
   "name": "python3"
  },
  "language_info": {
   "codemirror_mode": {
    "name": "ipython",
    "version": 3
   },
   "file_extension": ".py",
   "mimetype": "text/x-python",
   "name": "python",
   "nbconvert_exporter": "python",
   "pygments_lexer": "ipython3",
   "version": "3.7.0"
  }
 },
 "nbformat": 4,
 "nbformat_minor": 2
}
