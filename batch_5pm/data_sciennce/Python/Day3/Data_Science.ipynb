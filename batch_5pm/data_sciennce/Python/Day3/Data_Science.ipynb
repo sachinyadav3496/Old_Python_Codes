{
 "cells": [
  {
   "cell_type": "code",
   "execution_count": 2,
   "metadata": {},
   "outputs": [],
   "source": [
    "import pandas as pd\n",
    "import numpy as np "
   ]
  },
  {
   "cell_type": "code",
   "execution_count": 3,
   "metadata": {},
   "outputs": [],
   "source": [
    "d = pd.Series(['hello','hi','how are you',np.nan,'you','me','bye'])"
   ]
  },
  {
   "cell_type": "code",
   "execution_count": 4,
   "metadata": {},
   "outputs": [
    {
     "data": {
      "text/plain": [
       "0          HELLO\n",
       "1             HI\n",
       "2    HOW ARE YOU\n",
       "3            NaN\n",
       "4            YOU\n",
       "5             ME\n",
       "6            BYE\n",
       "dtype: object"
      ]
     },
     "execution_count": 4,
     "metadata": {},
     "output_type": "execute_result"
    }
   ],
   "source": [
    "d.str.upper()"
   ]
  },
  {
   "cell_type": "code",
   "execution_count": 5,
   "metadata": {},
   "outputs": [
    {
     "data": {
      "text/html": [
       "<div>\n",
       "<style scoped>\n",
       "    .dataframe tbody tr th:only-of-type {\n",
       "        vertical-align: middle;\n",
       "    }\n",
       "\n",
       "    .dataframe tbody tr th {\n",
       "        vertical-align: top;\n",
       "    }\n",
       "\n",
       "    .dataframe thead th {\n",
       "        text-align: right;\n",
       "    }\n",
       "</style>\n",
       "<table border=\"1\" class=\"dataframe\">\n",
       "  <thead>\n",
       "    <tr style=\"text-align: right;\">\n",
       "      <th></th>\n",
       "      <th>0</th>\n",
       "      <th>1</th>\n",
       "      <th>2</th>\n",
       "      <th>3</th>\n",
       "    </tr>\n",
       "  </thead>\n",
       "  <tbody>\n",
       "    <tr>\n",
       "      <th>0</th>\n",
       "      <td>-0.478560</td>\n",
       "      <td>-0.021260</td>\n",
       "      <td>0.387574</td>\n",
       "      <td>-0.167593</td>\n",
       "    </tr>\n",
       "    <tr>\n",
       "      <th>1</th>\n",
       "      <td>-1.020364</td>\n",
       "      <td>-1.174515</td>\n",
       "      <td>0.113322</td>\n",
       "      <td>1.019769</td>\n",
       "    </tr>\n",
       "    <tr>\n",
       "      <th>2</th>\n",
       "      <td>-0.131418</td>\n",
       "      <td>2.156723</td>\n",
       "      <td>-0.206839</td>\n",
       "      <td>-1.040941</td>\n",
       "    </tr>\n",
       "    <tr>\n",
       "      <th>3</th>\n",
       "      <td>-0.447102</td>\n",
       "      <td>0.513429</td>\n",
       "      <td>-0.090550</td>\n",
       "      <td>-0.102985</td>\n",
       "    </tr>\n",
       "    <tr>\n",
       "      <th>4</th>\n",
       "      <td>1.197836</td>\n",
       "      <td>-0.789979</td>\n",
       "      <td>1.027222</td>\n",
       "      <td>-0.802061</td>\n",
       "    </tr>\n",
       "    <tr>\n",
       "      <th>5</th>\n",
       "      <td>-0.035719</td>\n",
       "      <td>-1.415940</td>\n",
       "      <td>2.280595</td>\n",
       "      <td>1.183275</td>\n",
       "    </tr>\n",
       "    <tr>\n",
       "      <th>6</th>\n",
       "      <td>0.840751</td>\n",
       "      <td>-1.886790</td>\n",
       "      <td>0.559764</td>\n",
       "      <td>1.300735</td>\n",
       "    </tr>\n",
       "    <tr>\n",
       "      <th>7</th>\n",
       "      <td>-0.836155</td>\n",
       "      <td>-0.659290</td>\n",
       "      <td>1.148652</td>\n",
       "      <td>-0.275116</td>\n",
       "    </tr>\n",
       "    <tr>\n",
       "      <th>8</th>\n",
       "      <td>-2.128905</td>\n",
       "      <td>1.015889</td>\n",
       "      <td>0.278386</td>\n",
       "      <td>-0.596702</td>\n",
       "    </tr>\n",
       "    <tr>\n",
       "      <th>9</th>\n",
       "      <td>-2.500166</td>\n",
       "      <td>0.037262</td>\n",
       "      <td>-0.625275</td>\n",
       "      <td>0.207940</td>\n",
       "    </tr>\n",
       "  </tbody>\n",
       "</table>\n",
       "</div>"
      ],
      "text/plain": [
       "          0         1         2         3\n",
       "0 -0.478560 -0.021260  0.387574 -0.167593\n",
       "1 -1.020364 -1.174515  0.113322  1.019769\n",
       "2 -0.131418  2.156723 -0.206839 -1.040941\n",
       "3 -0.447102  0.513429 -0.090550 -0.102985\n",
       "4  1.197836 -0.789979  1.027222 -0.802061\n",
       "5 -0.035719 -1.415940  2.280595  1.183275\n",
       "6  0.840751 -1.886790  0.559764  1.300735\n",
       "7 -0.836155 -0.659290  1.148652 -0.275116\n",
       "8 -2.128905  1.015889  0.278386 -0.596702\n",
       "9 -2.500166  0.037262 -0.625275  0.207940"
      ]
     },
     "execution_count": 5,
     "metadata": {},
     "output_type": "execute_result"
    }
   ],
   "source": [
    "df = pd.DataFrame(np.random.randn(10,4))\n",
    "df"
   ]
  },
  {
   "cell_type": "code",
   "execution_count": 6,
   "metadata": {},
   "outputs": [],
   "source": [
    "pices = [ df[:3],df[3:6],df[6:]]"
   ]
  },
  {
   "cell_type": "code",
   "execution_count": 7,
   "metadata": {},
   "outputs": [
    {
     "data": {
      "text/plain": [
       "[          0         1         2         3\n",
       " 0 -0.478560 -0.021260  0.387574 -0.167593\n",
       " 1 -1.020364 -1.174515  0.113322  1.019769\n",
       " 2 -0.131418  2.156723 -0.206839 -1.040941,\n",
       "           0         1         2         3\n",
       " 3 -0.447102  0.513429 -0.090550 -0.102985\n",
       " 4  1.197836 -0.789979  1.027222 -0.802061\n",
       " 5 -0.035719 -1.415940  2.280595  1.183275,\n",
       "           0         1         2         3\n",
       " 6  0.840751 -1.886790  0.559764  1.300735\n",
       " 7 -0.836155 -0.659290  1.148652 -0.275116\n",
       " 8 -2.128905  1.015889  0.278386 -0.596702\n",
       " 9 -2.500166  0.037262 -0.625275  0.207940]"
      ]
     },
     "execution_count": 7,
     "metadata": {},
     "output_type": "execute_result"
    }
   ],
   "source": [
    "pices"
   ]
  },
  {
   "cell_type": "code",
   "execution_count": 8,
   "metadata": {},
   "outputs": [],
   "source": [
    "df = pd.concat(pices)"
   ]
  },
  {
   "cell_type": "code",
   "execution_count": 9,
   "metadata": {},
   "outputs": [
    {
     "data": {
      "text/html": [
       "<div>\n",
       "<style scoped>\n",
       "    .dataframe tbody tr th:only-of-type {\n",
       "        vertical-align: middle;\n",
       "    }\n",
       "\n",
       "    .dataframe tbody tr th {\n",
       "        vertical-align: top;\n",
       "    }\n",
       "\n",
       "    .dataframe thead th {\n",
       "        text-align: right;\n",
       "    }\n",
       "</style>\n",
       "<table border=\"1\" class=\"dataframe\">\n",
       "  <thead>\n",
       "    <tr style=\"text-align: right;\">\n",
       "      <th></th>\n",
       "      <th>0</th>\n",
       "      <th>1</th>\n",
       "      <th>2</th>\n",
       "      <th>3</th>\n",
       "    </tr>\n",
       "  </thead>\n",
       "  <tbody>\n",
       "    <tr>\n",
       "      <th>0</th>\n",
       "      <td>-0.478560</td>\n",
       "      <td>-0.021260</td>\n",
       "      <td>0.387574</td>\n",
       "      <td>-0.167593</td>\n",
       "    </tr>\n",
       "    <tr>\n",
       "      <th>1</th>\n",
       "      <td>-1.020364</td>\n",
       "      <td>-1.174515</td>\n",
       "      <td>0.113322</td>\n",
       "      <td>1.019769</td>\n",
       "    </tr>\n",
       "    <tr>\n",
       "      <th>2</th>\n",
       "      <td>-0.131418</td>\n",
       "      <td>2.156723</td>\n",
       "      <td>-0.206839</td>\n",
       "      <td>-1.040941</td>\n",
       "    </tr>\n",
       "    <tr>\n",
       "      <th>3</th>\n",
       "      <td>-0.447102</td>\n",
       "      <td>0.513429</td>\n",
       "      <td>-0.090550</td>\n",
       "      <td>-0.102985</td>\n",
       "    </tr>\n",
       "    <tr>\n",
       "      <th>4</th>\n",
       "      <td>1.197836</td>\n",
       "      <td>-0.789979</td>\n",
       "      <td>1.027222</td>\n",
       "      <td>-0.802061</td>\n",
       "    </tr>\n",
       "    <tr>\n",
       "      <th>5</th>\n",
       "      <td>-0.035719</td>\n",
       "      <td>-1.415940</td>\n",
       "      <td>2.280595</td>\n",
       "      <td>1.183275</td>\n",
       "    </tr>\n",
       "    <tr>\n",
       "      <th>6</th>\n",
       "      <td>0.840751</td>\n",
       "      <td>-1.886790</td>\n",
       "      <td>0.559764</td>\n",
       "      <td>1.300735</td>\n",
       "    </tr>\n",
       "    <tr>\n",
       "      <th>7</th>\n",
       "      <td>-0.836155</td>\n",
       "      <td>-0.659290</td>\n",
       "      <td>1.148652</td>\n",
       "      <td>-0.275116</td>\n",
       "    </tr>\n",
       "    <tr>\n",
       "      <th>8</th>\n",
       "      <td>-2.128905</td>\n",
       "      <td>1.015889</td>\n",
       "      <td>0.278386</td>\n",
       "      <td>-0.596702</td>\n",
       "    </tr>\n",
       "    <tr>\n",
       "      <th>9</th>\n",
       "      <td>-2.500166</td>\n",
       "      <td>0.037262</td>\n",
       "      <td>-0.625275</td>\n",
       "      <td>0.207940</td>\n",
       "    </tr>\n",
       "  </tbody>\n",
       "</table>\n",
       "</div>"
      ],
      "text/plain": [
       "          0         1         2         3\n",
       "0 -0.478560 -0.021260  0.387574 -0.167593\n",
       "1 -1.020364 -1.174515  0.113322  1.019769\n",
       "2 -0.131418  2.156723 -0.206839 -1.040941\n",
       "3 -0.447102  0.513429 -0.090550 -0.102985\n",
       "4  1.197836 -0.789979  1.027222 -0.802061\n",
       "5 -0.035719 -1.415940  2.280595  1.183275\n",
       "6  0.840751 -1.886790  0.559764  1.300735\n",
       "7 -0.836155 -0.659290  1.148652 -0.275116\n",
       "8 -2.128905  1.015889  0.278386 -0.596702\n",
       "9 -2.500166  0.037262 -0.625275  0.207940"
      ]
     },
     "execution_count": 9,
     "metadata": {},
     "output_type": "execute_result"
    }
   ],
   "source": [
    "df"
   ]
  },
  {
   "cell_type": "code",
   "execution_count": 10,
   "metadata": {},
   "outputs": [],
   "source": [
    "df = pd.DataFrame([[1,2,3],[4,5,6]])"
   ]
  },
  {
   "cell_type": "code",
   "execution_count": 11,
   "metadata": {},
   "outputs": [],
   "source": [
    "df1 = pd.DataFrame([[6,7,8],[9,10,11],[12,13,14]])"
   ]
  },
  {
   "cell_type": "code",
   "execution_count": 12,
   "metadata": {},
   "outputs": [],
   "source": [
    "d = pd.concat([df,df1])"
   ]
  },
  {
   "cell_type": "code",
   "execution_count": 13,
   "metadata": {},
   "outputs": [
    {
     "data": {
      "text/html": [
       "<div>\n",
       "<style scoped>\n",
       "    .dataframe tbody tr th:only-of-type {\n",
       "        vertical-align: middle;\n",
       "    }\n",
       "\n",
       "    .dataframe tbody tr th {\n",
       "        vertical-align: top;\n",
       "    }\n",
       "\n",
       "    .dataframe thead th {\n",
       "        text-align: right;\n",
       "    }\n",
       "</style>\n",
       "<table border=\"1\" class=\"dataframe\">\n",
       "  <thead>\n",
       "    <tr style=\"text-align: right;\">\n",
       "      <th></th>\n",
       "      <th>0</th>\n",
       "      <th>1</th>\n",
       "      <th>2</th>\n",
       "    </tr>\n",
       "  </thead>\n",
       "  <tbody>\n",
       "    <tr>\n",
       "      <th>0</th>\n",
       "      <td>1</td>\n",
       "      <td>2</td>\n",
       "      <td>3</td>\n",
       "    </tr>\n",
       "    <tr>\n",
       "      <th>1</th>\n",
       "      <td>4</td>\n",
       "      <td>5</td>\n",
       "      <td>6</td>\n",
       "    </tr>\n",
       "    <tr>\n",
       "      <th>0</th>\n",
       "      <td>6</td>\n",
       "      <td>7</td>\n",
       "      <td>8</td>\n",
       "    </tr>\n",
       "    <tr>\n",
       "      <th>1</th>\n",
       "      <td>9</td>\n",
       "      <td>10</td>\n",
       "      <td>11</td>\n",
       "    </tr>\n",
       "    <tr>\n",
       "      <th>2</th>\n",
       "      <td>12</td>\n",
       "      <td>13</td>\n",
       "      <td>14</td>\n",
       "    </tr>\n",
       "  </tbody>\n",
       "</table>\n",
       "</div>"
      ],
      "text/plain": [
       "    0   1   2\n",
       "0   1   2   3\n",
       "1   4   5   6\n",
       "0   6   7   8\n",
       "1   9  10  11\n",
       "2  12  13  14"
      ]
     },
     "execution_count": 13,
     "metadata": {},
     "output_type": "execute_result"
    }
   ],
   "source": [
    "d"
   ]
  },
  {
   "cell_type": "code",
   "execution_count": 23,
   "metadata": {},
   "outputs": [],
   "source": [
    "d1 = { 'name':['sachin','rajat','nidhi'],'age':[22,30,25],'key':[1,2,3]}\n",
    "d2 = { 'name':['kushal','ravi','gaurav'],'age':[24,35,32],'key':[1,2,3]}\n",
    "d1 = pd.DataFrame(d1)\n",
    "d2 = pd.DataFrame(d2)"
   ]
  },
  {
   "cell_type": "code",
   "execution_count": 27,
   "metadata": {},
   "outputs": [
    {
     "name": "stdout",
     "output_type": "stream",
     "text": [
      "   name_x  age_x  key  name_y  age_y\n",
      "0  sachin     22    1  kushal     24\n",
      "1   rajat     30    2    ravi     35\n",
      "2   nidhi     25    3  gaurav     32\n",
      "     name  age  key\n",
      "0  sachin   22    1\n",
      "1   rajat   30    2\n",
      "2   nidhi   25    3\n",
      "0  kushal   24    1\n",
      "1    ravi   35    2\n",
      "2  gaurav   32    3\n"
     ]
    }
   ],
   "source": [
    "df1 = pd.merge(d1,d2,on='key')\n",
    "df2 = pd.concat([d1,d2])\n",
    "print(df1)\n",
    "print(df2)"
   ]
  },
  {
   "cell_type": "code",
   "execution_count": 25,
   "metadata": {},
   "outputs": [
    {
     "data": {
      "text/html": [
       "<div>\n",
       "<style scoped>\n",
       "    .dataframe tbody tr th:only-of-type {\n",
       "        vertical-align: middle;\n",
       "    }\n",
       "\n",
       "    .dataframe tbody tr th {\n",
       "        vertical-align: top;\n",
       "    }\n",
       "\n",
       "    .dataframe thead th {\n",
       "        text-align: right;\n",
       "    }\n",
       "</style>\n",
       "<table border=\"1\" class=\"dataframe\">\n",
       "  <thead>\n",
       "    <tr style=\"text-align: right;\">\n",
       "      <th></th>\n",
       "      <th>name_x</th>\n",
       "      <th>age_x</th>\n",
       "      <th>key</th>\n",
       "      <th>name_y</th>\n",
       "      <th>age_y</th>\n",
       "    </tr>\n",
       "  </thead>\n",
       "  <tbody>\n",
       "    <tr>\n",
       "      <th>0</th>\n",
       "      <td>sachin</td>\n",
       "      <td>22</td>\n",
       "      <td>1</td>\n",
       "      <td>kushal</td>\n",
       "      <td>24</td>\n",
       "    </tr>\n",
       "    <tr>\n",
       "      <th>1</th>\n",
       "      <td>rajat</td>\n",
       "      <td>30</td>\n",
       "      <td>2</td>\n",
       "      <td>ravi</td>\n",
       "      <td>35</td>\n",
       "    </tr>\n",
       "    <tr>\n",
       "      <th>2</th>\n",
       "      <td>nidhi</td>\n",
       "      <td>25</td>\n",
       "      <td>3</td>\n",
       "      <td>gaurav</td>\n",
       "      <td>32</td>\n",
       "    </tr>\n",
       "  </tbody>\n",
       "</table>\n",
       "</div>"
      ],
      "text/plain": [
       "   name_x  age_x  key  name_y  age_y\n",
       "0  sachin     22    1  kushal     24\n",
       "1   rajat     30    2    ravi     35\n",
       "2   nidhi     25    3  gaurav     32"
      ]
     },
     "execution_count": 25,
     "metadata": {},
     "output_type": "execute_result"
    }
   ],
   "source": [
    "df"
   ]
  },
  {
   "cell_type": "code",
   "execution_count": null,
   "metadata": {},
   "outputs": [],
   "source": []
  }
 ],
 "metadata": {
  "kernelspec": {
   "display_name": "Python 3",
   "language": "python",
   "name": "python3"
  },
  "language_info": {
   "codemirror_mode": {
    "name": "ipython",
    "version": 3
   },
   "file_extension": ".py",
   "mimetype": "text/x-python",
   "name": "python",
   "nbconvert_exporter": "python",
   "pygments_lexer": "ipython3",
   "version": "3.7.0"
  }
 },
 "nbformat": 4,
 "nbformat_minor": 2
}
