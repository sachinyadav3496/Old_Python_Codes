{
 "cells": [
  {
   "cell_type": "code",
   "execution_count": 4,
   "metadata": {},
   "outputs": [
    {
     "name": "stdout",
     "output_type": "stream",
     "text": [
      "\n",
      "\n",
      "Press any key to continue : \n",
      "\n",
      "k\n",
      "Your Guess (1,50) : 25\n",
      "Correct Guess\n",
      "\n",
      "\n",
      "Press any key to continue : \n",
      "\n",
      "k\n",
      "Your Guess (1,50) : 25\n",
      "Be in Limits Think Lower\n",
      "Your Guess (1,50) : 13\n",
      "Think Big Be Big\n",
      "Your Guess (1,50) : 29\n",
      "Be in Limits Think Lower\n",
      "Your Guess (1,50) : 19\n",
      "Think Big Be Big\n",
      "Your Guess (1,50) : 23\n",
      "Be in Limits Think Lower\n",
      "Computer Guess =  21\n",
      "You such a Looser\n",
      "\n",
      "\n",
      "Press any key to continue : \n",
      "\n",
      "\n"
     ]
    }
   ],
   "source": [
    "from random import randint\n",
    "while input(\"\\n\\nPress any key to continue : \\n\\n\") : \n",
    "    comGuess = randint(1,50)\n",
    "    for var in range(1,6):\n",
    "        userGuess = int(input(\"Your Guess (1,50) : \"))\n",
    "        if userGuess < comGuess : \n",
    "            print(\"Think Big Be Big\")\n",
    "        elif userGuess > comGuess :\n",
    "            print(\"Be in Limits Think Lower\")\n",
    "        else :\n",
    "            print(\"Correct Guess\")\n",
    "            break\n",
    "        if var == 5 :\n",
    "            print(\"Computer Guess = \",comGuess)\n",
    "            print(\"You such a Looser\")"
   ]
  },
  {
   "cell_type": "code",
   "execution_count": 6,
   "metadata": {},
   "outputs": [
    {
     "name": "stdout",
     "output_type": "stream",
     "text": [
      "Enter number of players : 5\n",
      "Name of Player[1]sachin\n",
      "Name of Player[2]rajat\n",
      "Name of Player[3]gaurav\n",
      "Name of Player[4]nidhi\n",
      "Name of Player[5]muskaan\n",
      "Press any key to roll bottlek\n",
      "\n",
      "\n",
      "\n",
      "Rolling....Rolling...\n",
      "\n",
      "\n",
      "Target Player : nidhi\n",
      "Press any key to roll bottlek\n",
      "\n",
      "\n",
      "\n",
      "Rolling....Rolling...\n",
      "\n",
      "\n",
      "Target Player : gaurav\n",
      "Press any key to roll bottle\n"
     ]
    }
   ],
   "source": [
    "from random import randint,choice\n",
    "from time import sleep\n",
    "n = int(input(\"Enter number of players : \"))\n",
    "l = []\n",
    "for var in range(n):\n",
    "        l.append(input(\"Name of Player[{}]\".format(var+1)))\n",
    "while input(\"Press any key to roll bottle\") : \n",
    "    print(\"\\n\\n\")\n",
    "    print(\"Rolling....Rolling...\\n\\n\")\n",
    "    sleep(randint(1,5))\n",
    "    print(\"Target Player : {}\".format(choice(l)))"
   ]
  },
  {
   "cell_type": "code",
   "execution_count": 7,
   "metadata": {},
   "outputs": [
    {
     "name": "stdout",
     "output_type": "stream",
     "text": [
      "1\n",
      "2\n",
      "3\n",
      "4\n",
      "5\n",
      "6\n",
      "7\n",
      "8\n",
      "9\n",
      "10\n",
      "11\n",
      "12\n",
      "13\n",
      "14\n"
     ]
    }
   ],
   "source": [
    "x = 1\n",
    "while x <= 20 : \n",
    "    \n",
    "    if not( x % 3 ) and not ( x % 5 ) :\n",
    "        break\n",
    "    print(x)\n",
    "    x = x + 1"
   ]
  },
  {
   "cell_type": "code",
   "execution_count": 8,
   "metadata": {},
   "outputs": [
    {
     "name": "stdout",
     "output_type": "stream",
     "text": [
      "Hello World\n",
      "Hello World\n",
      "Hello World\n",
      "Hello World\n",
      "Hello World\n"
     ]
    }
   ],
   "source": [
    "x = 1 \n",
    "y = 2\n",
    "\n",
    "while x <= 30 : \n",
    "    x = x + 2\n",
    "    y = y + 2\n",
    "    if x % 2 == 0 :\n",
    "        break\n",
    "    elif y % 2 : \n",
    "        break\n",
    "    elif x % 2 and y % 3 :\n",
    "        continue\n",
    "    print(\"Hello World\")"
   ]
  },
  {
   "cell_type": "code",
   "execution_count": 10,
   "metadata": {
    "collapsed": true
   },
   "outputs": [],
   "source": [
    "x = 1 \n",
    "while x <= 10 :\n",
    "    if x == 5 :\n",
    "        break\n",
    "    x = x + 1\n",
    "else :\n",
    "    print(\"Hello World\")"
   ]
  },
  {
   "cell_type": "code",
   "execution_count": null,
   "metadata": {
    "collapsed": true
   },
   "outputs": [],
   "source": [
    "num = int(input(\"Enter a number : \"))\n",
    "sq = round(sqrt(num))\n",
    "for var in range(2,sq+1) : \n",
    "        if num % var == 0 :\n",
    "            print(\"Not a Prime Number\")\n",
    "            break\n",
    "else :\n",
    "        print(\"Prime Number\")\n",
    "    "
   ]
  },
  {
   "cell_type": "code",
   "execution_count": 15,
   "metadata": {},
   "outputs": [
    {
     "name": "stdout",
     "output_type": "stream",
     "text": [
      "start : 1000\n",
      "end : 2000\n",
      "1009,1013,1019,1021,1031,1033,1039,1049,1051,1061,1063,1069,1087,1091,1093,1097,1103,1109,1117,1123,1129,1151,1153,1163,1171,1181,1187,1193,1201,1213,1217,1223,1229,1231,1237,1249,1259,1277,1279,1283,1289,1291,1297,1301,1303,1307,1319,1321,1327,1361,1367,1373,1381,1399,1409,1423,1427,1429,1433,1439,1447,1451,1453,1459,1471,1481,1483,1487,1489,1493,1499,1511,1523,1531,1543,1549,1553,1559,1567,1571,1579,1583,1597,1601,1607,1609,1613,1619,1621,1627,1637,1657,1663,1667,1669,1693,1697,1699,1709,1721,1723,1733,1741,1747,1753,1759,1777,1783,1787,1789,1801,1811,1823,1831,1847,1861,1867,1871,1873,1877,1879,1889,1901,1907,1913,1931,1933,1949,1951,1973,1979,1987,1993,1997,1999,"
     ]
    }
   ],
   "source": [
    "from math import sqrt\n",
    "s=int(input(\"start : \"))\n",
    "e = int(input(\"end : \"))\n",
    "while s <= e : \n",
    "    num = s     \n",
    "    sq = round(sqrt(num))\n",
    "    for var in range(2,sq+1) : \n",
    "        if num % var == 0 :\n",
    "            break\n",
    "    else :\n",
    "        print(s,end=',')\n",
    "    s = s + 1"
   ]
  },
  {
   "cell_type": "code",
   "execution_count": 21,
   "metadata": {},
   "outputs": [
    {
     "name": "stdout",
     "output_type": "stream",
     "text": [
      "start : 372493274873294732874932794231784732947932798\n",
      "end : 99999999999999999999999999999999999999999999999999\n"
     ]
    },
    {
     "ename": "KeyboardInterrupt",
     "evalue": "",
     "output_type": "error",
     "traceback": [
      "\u001b[1;31m---------------------------------------------------------------------------\u001b[0m",
      "\u001b[1;31mKeyboardInterrupt\u001b[0m                         Traceback (most recent call last)",
      "\u001b[1;32m<ipython-input-21-67e19840b07e>\u001b[0m in \u001b[0;36m<module>\u001b[1;34m()\u001b[0m\n\u001b[0;32m      5\u001b[0m \u001b[1;32mfor\u001b[0m \u001b[0mnum\u001b[0m \u001b[1;32min\u001b[0m \u001b[0mrange\u001b[0m\u001b[1;33m(\u001b[0m\u001b[0ms\u001b[0m\u001b[1;33m,\u001b[0m\u001b[0me\u001b[0m\u001b[1;33m+\u001b[0m\u001b[1;36m1\u001b[0m\u001b[1;33m)\u001b[0m \u001b[1;33m:\u001b[0m\u001b[1;33m\u001b[0m\u001b[0m\n\u001b[0;32m      6\u001b[0m     \u001b[0msq\u001b[0m \u001b[1;33m=\u001b[0m \u001b[0mround\u001b[0m\u001b[1;33m(\u001b[0m\u001b[0msqrt\u001b[0m\u001b[1;33m(\u001b[0m\u001b[0mnum\u001b[0m\u001b[1;33m)\u001b[0m\u001b[1;33m)\u001b[0m\u001b[1;33m\u001b[0m\u001b[0m\n\u001b[1;32m----> 7\u001b[1;33m     \u001b[1;32mfor\u001b[0m \u001b[0mvar\u001b[0m \u001b[1;32min\u001b[0m \u001b[0mrange\u001b[0m\u001b[1;33m(\u001b[0m\u001b[1;36m2\u001b[0m\u001b[1;33m,\u001b[0m\u001b[0msq\u001b[0m\u001b[1;33m+\u001b[0m\u001b[1;36m1\u001b[0m\u001b[1;33m)\u001b[0m \u001b[1;33m:\u001b[0m\u001b[1;33m\u001b[0m\u001b[0m\n\u001b[0m\u001b[0;32m      8\u001b[0m         \u001b[1;32mif\u001b[0m \u001b[0mnum\u001b[0m \u001b[1;33m%\u001b[0m \u001b[0mvar\u001b[0m \u001b[1;33m==\u001b[0m \u001b[1;36m0\u001b[0m \u001b[1;33m:\u001b[0m\u001b[1;33m\u001b[0m\u001b[0m\n\u001b[0;32m      9\u001b[0m             \u001b[1;32mbreak\u001b[0m\u001b[1;33m\u001b[0m\u001b[0m\n",
      "\u001b[1;31mKeyboardInterrupt\u001b[0m: "
     ]
    }
   ],
   "source": [
    "from math import sqrt\n",
    "s=int(input(\"start : \"))\n",
    "e = int(input(\"end : \"))\n",
    "c = 0\n",
    "for num in range(s,e+1) :    \n",
    "    sq = round(sqrt(num))\n",
    "    for var in range(2,sq+1) : \n",
    "        if num % var == 0 :\n",
    "            break\n",
    "    else :\n",
    "        print(num,end=',')\n",
    "        c = c + 1\n",
    "print(\"\\nTotal Prime Number : \",c)"
   ]
  },
  {
   "cell_type": "code",
   "execution_count": null,
   "metadata": {
    "collapsed": true
   },
   "outputs": [],
   "source": []
  }
 ],
 "metadata": {
  "kernelspec": {
   "display_name": "Python 3",
   "language": "python",
   "name": "python3"
  },
  "language_info": {
   "codemirror_mode": {
    "name": "ipython",
    "version": 3
   },
   "file_extension": ".py",
   "mimetype": "text/x-python",
   "name": "python",
   "nbconvert_exporter": "python",
   "pygments_lexer": "ipython3",
   "version": "3.7.0"
  }
 },
 "nbformat": 4,
 "nbformat_minor": 2
}
