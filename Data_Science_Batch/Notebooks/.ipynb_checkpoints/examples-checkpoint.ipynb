{
 "cells": [
  {
   "cell_type": "markdown",
   "metadata": {
    "collapsed": true
   },
   "source": [
    " <h1 style='color:#123456' >Bank Application </h1>"
   ]
  },
  {
   "cell_type": "code",
   "execution_count": 2,
   "metadata": {},
   "outputs": [
    {
     "name": "stdout",
     "output_type": "stream",
     "text": [
      "\n",
      "\n",
      "\n",
      "\n",
      "\n",
      "Time =  Tue Jul 31 13:50:45 2018\n",
      "\n",
      "\n",
      "1. Login \n",
      "2. Signup \n",
      "3. Exit \n",
      "Your Choice : 2\n",
      "\n",
      "\n",
      "\n",
      "\n",
      "\n",
      "Time =  Tue Jul 31 13:50:48 2018\n",
      "\n",
      "\n",
      "Enter your name : sachin\n",
      "········\n",
      "Re-Type your Password : ········\n",
      "Password does not match\n",
      "Try again\n",
      "········\n",
      "Re-Type your Password : ········\n",
      "Enter initial amount : 1000\n",
      "\n",
      "\n",
      "\n",
      "\n",
      "\n",
      "Time =  Tue Jul 31 13:51:12 2018\n",
      "\n",
      "\n",
      "Account Sucessfully Created\n",
      "Please note down your account number for future use\n",
      "Account Number :  1004\n",
      "Redirecting to LOGIN Page ...\n"
     ]
    },
    {
     "ename": "NameError",
     "evalue": "name 'login' is not defined",
     "output_type": "error",
     "traceback": [
      "\u001b[1;31m---------------------------------------------------------------------------\u001b[0m",
      "\u001b[1;31mNameError\u001b[0m                                 Traceback (most recent call last)",
      "\u001b[1;32m<ipython-input-2-87f598af73de>\u001b[0m in \u001b[0;36m<module>\u001b[1;34m()\u001b[0m\n\u001b[0;32m     74\u001b[0m \u001b[1;33m\u001b[0m\u001b[0m\n\u001b[0;32m     75\u001b[0m \u001b[1;32mif\u001b[0m \u001b[0m__name__\u001b[0m \u001b[1;33m==\u001b[0m \u001b[1;34m\"__main__\"\u001b[0m \u001b[1;33m:\u001b[0m\u001b[1;33m\u001b[0m\u001b[0m\n\u001b[1;32m---> 76\u001b[1;33m     \u001b[0mbank\u001b[0m\u001b[1;33m(\u001b[0m\u001b[1;33m)\u001b[0m\u001b[1;33m\u001b[0m\u001b[0m\n\u001b[0m",
      "\u001b[1;32m<ipython-input-2-87f598af73de>\u001b[0m in \u001b[0;36mbank\u001b[1;34m()\u001b[0m\n\u001b[0;32m     56\u001b[0m         \u001b[0mlogin\u001b[0m\u001b[1;33m(\u001b[0m\u001b[1;33m)\u001b[0m\u001b[1;33m\u001b[0m\u001b[0m\n\u001b[0;32m     57\u001b[0m     \u001b[1;32melif\u001b[0m \u001b[0mch\u001b[0m \u001b[1;33m==\u001b[0m \u001b[1;36m2\u001b[0m \u001b[1;33m:\u001b[0m\u001b[1;33m\u001b[0m\u001b[0m\n\u001b[1;32m---> 58\u001b[1;33m         \u001b[0msignup\u001b[0m\u001b[1;33m(\u001b[0m\u001b[1;33m)\u001b[0m\u001b[1;33m\u001b[0m\u001b[0m\n\u001b[0m\u001b[0;32m     59\u001b[0m     \u001b[1;32melif\u001b[0m \u001b[0mch\u001b[0m \u001b[1;33m==\u001b[0m \u001b[1;36m3\u001b[0m \u001b[1;33m:\u001b[0m\u001b[1;33m\u001b[0m\u001b[0m\n\u001b[0;32m     60\u001b[0m         \u001b[0mos\u001b[0m\u001b[1;33m.\u001b[0m\u001b[0msystem\u001b[0m\u001b[1;33m(\u001b[0m\u001b[1;34m'cls'\u001b[0m\u001b[1;33m)\u001b[0m\u001b[1;33m\u001b[0m\u001b[0m\n",
      "\u001b[1;32m<ipython-input-2-87f598af73de>\u001b[0m in \u001b[0;36msignup\u001b[1;34m()\u001b[0m\n\u001b[0;32m     41\u001b[0m     \u001b[0mprint\u001b[0m\u001b[1;33m(\u001b[0m\u001b[1;34m\"Redirecting to LOGIN Page ...\"\u001b[0m\u001b[1;33m)\u001b[0m\u001b[1;33m\u001b[0m\u001b[0m\n\u001b[0;32m     42\u001b[0m     \u001b[0mtime\u001b[0m\u001b[1;33m.\u001b[0m\u001b[0msleep\u001b[0m\u001b[1;33m(\u001b[0m\u001b[1;36m3\u001b[0m\u001b[1;33m)\u001b[0m\u001b[1;33m\u001b[0m\u001b[0m\n\u001b[1;32m---> 43\u001b[1;33m     \u001b[0mlogin\u001b[0m\u001b[1;33m(\u001b[0m\u001b[1;33m)\u001b[0m\u001b[1;33m\u001b[0m\u001b[0m\n\u001b[0m\u001b[0;32m     44\u001b[0m \u001b[1;33m\u001b[0m\u001b[0m\n\u001b[0;32m     45\u001b[0m \u001b[1;33m\u001b[0m\u001b[0m\n",
      "\u001b[1;31mNameError\u001b[0m: name 'login' is not defined"
     ]
    }
   ],
   "source": [
    "import sys\n",
    "import os\n",
    "import time\n",
    "from getpass import getpass\n",
    "data = { \n",
    "        'user' : [ 'ram','john','harry' ] , \n",
    "        'acc' : [ 1001, 1002, 1003 ] , \n",
    "        'password'   :[ 'abcdef','hey@123','redhat@asimov' ],\n",
    "        'bal' : [ 25000.0,1500.0,16644.0 ] , \n",
    "        }\n",
    "def password_input():\n",
    "    p = getpass()\n",
    "    q = getpass(\"Re-Type your Password : \")\n",
    "    if p == q :\n",
    "        return p\n",
    "    else : \n",
    "        print(\"Password does not match\\nTry again\")\n",
    "        password_input()\n",
    "        \n",
    "def signup():\n",
    "    global data\n",
    "    os.system('cls')\n",
    "    print(\"\\n\\n\\n\\n\")\n",
    "    print(\"Time = \",time.ctime())\n",
    "    print(\"\\n\")\n",
    "    name = input(\"Enter your name : \")\n",
    "    password = password_input()\n",
    "    bal = float(\"%.2f\"%(float(input(\"Enter initial amount : \"))))\n",
    "    acc = data['acc'][-1] + 1\n",
    "    data['user'].append(name)\n",
    "    data['acc'].append(acc)\n",
    "    data['password'].append(password)\n",
    "    data['bal'].append(bal)\n",
    "    os.system('cls')\n",
    "    print(\"\\n\\n\\n\\n\")\n",
    "    print(\"Time = \",time.ctime())\n",
    "    print(\"\\n\")\n",
    "    print(\"Account Sucessfully Created\")\n",
    "    print(\"Please note down your account number for future use\")\n",
    "    print(\"Account Number : \",acc)\n",
    "    print(\"Redirecting to LOGIN Page ...\")\n",
    "    time.sleep(3)\n",
    "    login()\n",
    "\n",
    "\n",
    "def bank():\n",
    "    os.system('cls')\n",
    "    print(\"\\n\\n\\n\\n\")\n",
    "    print(\"Time = \",time.ctime())\n",
    "    print(\"\\n\")\n",
    "    print(\"1. Login \")\n",
    "    print(\"2. Signup \")\n",
    "    print(\"3. Exit \")\n",
    "    ch = int(input(\"Your Choice : \"))\n",
    "    if ch == 1 : \n",
    "        login()\n",
    "    elif ch == 2 : \n",
    "        signup()\n",
    "    elif ch == 3 : \n",
    "        os.system('cls')\n",
    "        print(\"\\n\\n\\n\\n\")\n",
    "        print(\"Thanks for using our services \")\n",
    "        print(\"Exiting ... \")\n",
    "        time.sleep(3)\n",
    "        os.system('cls')\n",
    "        sys.exit(0)\n",
    "    else : \n",
    "        os.system('cls')\n",
    "        print(\"\\n\\n\\n\\n\")\n",
    "        print(\"Invalid Choice Try Again  \")\n",
    "        print(\"Redirecting you to Home ... \")\n",
    "        time.sleep(3)\n",
    "        bank()\n",
    "\n",
    "if __name__ == \"__main__\" : \n",
    "    bank()\n"
   ]
  },
  {
   "cell_type": "code",
   "execution_count": null,
   "metadata": {
    "collapsed": true
   },
   "outputs": [],
   "source": []
  }
 ],
 "metadata": {
  "kernelspec": {
   "display_name": "Python 3",
   "language": "python",
   "name": "python3"
  },
  "language_info": {
   "codemirror_mode": {
    "name": "ipython",
    "version": 3
   },
   "file_extension": ".py",
   "mimetype": "text/x-python",
   "name": "python",
   "nbconvert_exporter": "python",
   "pygments_lexer": "ipython3",
   "version": "3.7.0"
  }
 },
 "nbformat": 4,
 "nbformat_minor": 2
}
