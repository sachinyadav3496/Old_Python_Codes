{
 "cells": [
  {
   "cell_type": "markdown",
   "metadata": {},
   "source": [
    "# Decesion Statements"
   ]
  },
  {
   "cell_type": "code",
   "execution_count": 9,
   "metadata": {},
   "outputs": [
    {
     "ename": "IndentationError",
     "evalue": "unexpected indent (<ipython-input-9-53d4eb834bc2>, line 3)",
     "output_type": "error",
     "traceback": [
      "\u001b[1;36m  File \u001b[1;32m\"<ipython-input-9-53d4eb834bc2>\"\u001b[1;36m, line \u001b[1;32m3\u001b[0m\n\u001b[1;33m    print(\"good to go\")\u001b[0m\n\u001b[1;37m    ^\u001b[0m\n\u001b[1;31mIndentationError\u001b[0m\u001b[1;31m:\u001b[0m unexpected indent\n"
     ]
    }
   ],
   "source": [
    "#if-else\n",
    "print(\"Helloo\") \n",
    "    print(\"good to go\")\n",
    "print(\"hi\")\n",
    "print(\"bye\")"
   ]
  },
  {
   "cell_type": "code",
   "execution_count": 11,
   "metadata": {},
   "outputs": [
    {
     "name": "stdout",
     "output_type": "stream",
     "text": [
      "Hello World\n",
      "I am out\n",
      "Bye\n"
     ]
    }
   ],
   "source": [
    "print(\"Hello World\")\n",
    "if 0:\n",
    "    print(\"hi\")\n",
    "    print(\"This is indentation\")\n",
    "    print(\"Python is beautiful beacuse of indentation\")\n",
    "    \n",
    "print(\"I am out\")\n",
    "print(\"Bye\")"
   ]
  },
  {
   "cell_type": "code",
   "execution_count": 13,
   "metadata": {},
   "outputs": [
    {
     "name": "stdout",
     "output_type": "stream",
     "text": [
      "Start\n",
      "Good to go \n",
      "I am good\n",
      "hello\n"
     ]
    }
   ],
   "source": [
    "print(\"Start\")\n",
    "if 'None' : \n",
    "    print(\"Good to go \")\n",
    "    if 3 > 5 or 5 < 6 : \n",
    "        print(\"I am good\")\n",
    "        if (25/5)+(5*6)-35 : \n",
    "            print(\"hey\")\n",
    "        elif 6 % 2 : \n",
    "            print(\"hi\")\n",
    "        else :\n",
    "            print(\"hello\")\n",
    "    elif 'something' : \n",
    "        print(\"by by\")\n",
    "else :\n",
    "    print(\"BYE BYE\")"
   ]
  },
  {
   "cell_type": "code",
   "execution_count": 14,
   "metadata": {},
   "outputs": [
    {
     "name": "stdout",
     "output_type": "stream",
     "text": [
      "Hello World\n",
      "bye bye world\n"
     ]
    }
   ],
   "source": [
    "if print(\"Hello World\") :\n",
    "    print(\"Hey how are you \")\n",
    "else :\n",
    "    print(\"bye bye world\")"
   ]
  },
  {
   "cell_type": "code",
   "execution_count": 15,
   "metadata": {},
   "outputs": [
    {
     "name": "stdout",
     "output_type": "stream",
     "text": [
      "hello\n",
      "None\n"
     ]
    }
   ],
   "source": [
    "x = print(\"hello\")\n",
    "print(x)"
   ]
  },
  {
   "cell_type": "code",
   "execution_count": 16,
   "metadata": {},
   "outputs": [
    {
     "name": "stdout",
     "output_type": "stream",
     "text": [
      "Enter a number : 5\n",
      "Hello World\n"
     ]
    }
   ],
   "source": [
    "if int(input(\"Enter a number : \")) % 2 : \n",
    "    print(\"Hello World\")\n",
    "else :\n",
    "    print(\"Bye World\")"
   ]
  },
  {
   "cell_type": "code",
   "execution_count": 18,
   "metadata": {},
   "outputs": [
    {
     "name": "stdout",
     "output_type": "stream",
     "text": [
      "Enter a number : 7\n",
      "7 is an odd number.\n"
     ]
    }
   ],
   "source": [
    "x = int(input(\"Enter a number : \"))\n",
    "if x % 2 : \n",
    "    print(\"%d is an odd number.\"%(x))\n",
    "else :\n",
    "    print(\"%d is an even number.\"%(x))"
   ]
  },
  {
   "cell_type": "code",
   "execution_count": 20,
   "metadata": {},
   "outputs": [
    {
     "name": "stdout",
     "output_type": "stream",
     "text": [
      "P : 1\n",
      "Q : 1\n",
      "R : 3\n",
      "S : 1\n",
      "3 is greatest\n"
     ]
    }
   ],
   "source": [
    "p = int(input(\"P : \"))\n",
    "q = int(input(\"Q : \"))\n",
    "r = int(input(\"R : \"))\n",
    "s = int(input(\"S : \"))\n",
    "\n",
    "#write code to print greatest number ? \n",
    "\n",
    "if p >= q and p >= r and p >= s : \n",
    "    print(\"{} is greatest\".format(p))\n",
    "elif q >= p and q >= r and q >= s : \n",
    "    print(\"{} is greatest\".format(q))\n",
    "elif r >= p and r >= q and r >= s : \n",
    "    print(\"{} is greatest\".format(r))\n",
    "else :\n",
    "    print(\"{} is greatest\".format(s))\n"
   ]
  },
  {
   "cell_type": "code",
   "execution_count": 22,
   "metadata": {},
   "outputs": [
    {
     "name": "stdout",
     "output_type": "stream",
     "text": [
      "x : ········\n",
      "Y  : ········\n",
      "········\n"
     ]
    }
   ],
   "source": [
    "from getpass import getpass\n",
    "\n",
    "x = getpass(\"x : \")\n",
    "y = getpass(\"Y  : \")\n",
    "z = getpass()"
   ]
  },
  {
   "cell_type": "code",
   "execution_count": null,
   "metadata": {
    "collapsed": true
   },
   "outputs": [],
   "source": []
  }
 ],
 "metadata": {
  "kernelspec": {
   "display_name": "Python 3",
   "language": "python",
   "name": "python3"
  },
  "language_info": {
   "codemirror_mode": {
    "name": "ipython",
    "version": 3
   },
   "file_extension": ".py",
   "mimetype": "text/x-python",
   "name": "python",
   "nbconvert_exporter": "python",
   "pygments_lexer": "ipython3",
   "version": "3.7.0"
  }
 },
 "nbformat": 4,
 "nbformat_minor": 2
}
